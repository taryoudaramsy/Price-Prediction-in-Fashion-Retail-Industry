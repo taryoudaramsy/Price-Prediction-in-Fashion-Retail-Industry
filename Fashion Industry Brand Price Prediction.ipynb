{
 "cells": [
  {
   "cell_type": "markdown",
   "id": "48ad65b4",
   "metadata": {},
   "source": [
    "### Fashion Industry Brand Price Prediction\n",
    "A fashion industry dataset is analysed to help with price predictions and make crucial business choices, in an industry that is characterised by short product life cycles, a wide diversity of products, volatile and unpredictable demand, and a lengthy and rigid supply chains. There are many variables that affect fashion items, and it is crucial to understand these variables."
   ]
  },
  {
   "cell_type": "markdown",
   "id": "eaa195d2",
   "metadata": {},
   "source": [
    "#### Feature Description\n",
    "- brand_id - The numerical value assigned to each fashion brand\n",
    "- brand_name - The name of each fashion product\n",
    "- p_id - The product id is the value assigned to different products in the store\n",
    "- name - The description of each brand\n",
    "- price - The price of the brand products\n",
    "- colour - The colour of each brand\n",
    "- brand - The name of each fashion product, has same attribute with brand_name\n",
    "- ratingCount - The total number of weighted votes/ratings by customers\n",
    "- avg_rating - The rating count divided by number of customer votes\n",
    "- description - The specification of each fashion brand\n",
    "- p_attributes - The product attributes which detailed the brand size, type, measurements and body shape\n",
    "- NewBrand - The combination of the variables in both brand_id and brand columns"
   ]
  },
  {
   "cell_type": "code",
   "execution_count": 326,
   "id": "b04f17dd",
   "metadata": {},
   "outputs": [],
   "source": [
    "#import pandas and numpy for data manipulation\n",
    "import pandas as pd\n",
    "import numpy as np\n",
    "#import pyplot and seaborn for visualization\n",
    "import matplotlib.pyplot as plt\n",
    "from sklearn.preprocessing import LabelEncoder\n",
    "from sklearn import preprocessing\n",
    "%matplotlib inline\n",
    "import seaborn as sns"
   ]
  },
  {
   "cell_type": "markdown",
   "id": "09c91d31",
   "metadata": {},
   "source": [
    "## Data Inspection"
   ]
  },
  {
   "cell_type": "code",
   "execution_count": 328,
   "id": "6ebe971e",
   "metadata": {},
   "outputs": [],
   "source": [
    "# load the merged datasets\n",
    "data = pd.read_csv('fashion_data.csv', index_col=False)"
   ]
  },
  {
   "cell_type": "code",
   "execution_count": 329,
   "id": "516df775",
   "metadata": {},
   "outputs": [
    {
     "data": {
      "text/html": [
       "<div>\n",
       "<style scoped>\n",
       "    .dataframe tbody tr th:only-of-type {\n",
       "        vertical-align: middle;\n",
       "    }\n",
       "\n",
       "    .dataframe tbody tr th {\n",
       "        vertical-align: top;\n",
       "    }\n",
       "\n",
       "    .dataframe thead th {\n",
       "        text-align: right;\n",
       "    }\n",
       "</style>\n",
       "<table border=\"1\" class=\"dataframe\">\n",
       "  <thead>\n",
       "    <tr style=\"text-align: right;\">\n",
       "      <th></th>\n",
       "      <th>brand_id</th>\n",
       "      <th>brand_name</th>\n",
       "      <th>p_id</th>\n",
       "      <th>name</th>\n",
       "      <th>price</th>\n",
       "      <th>colour</th>\n",
       "      <th>brand</th>\n",
       "      <th>ratingCount</th>\n",
       "      <th>avg_rating</th>\n",
       "      <th>description</th>\n",
       "      <th>p_attributes</th>\n",
       "      <th>NewBrand</th>\n",
       "    </tr>\n",
       "  </thead>\n",
       "  <tbody>\n",
       "    <tr>\n",
       "      <th>0</th>\n",
       "      <td>555</td>\n",
       "      <td>Max</td>\n",
       "      <td>19000284.0</td>\n",
       "      <td>max Peach-Coloured Print Top</td>\n",
       "      <td>169.0</td>\n",
       "      <td>Peach</td>\n",
       "      <td>max</td>\n",
       "      <td>NaN</td>\n",
       "      <td>NaN</td>\n",
       "      <td>&lt;ul&gt;&lt;li&gt;Peach-coloured regular top&lt;/li&gt;&lt;li&gt;Gra...</td>\n",
       "      <td>{'Body or Garment Size': 'Garment Measurements...</td>\n",
       "      <td>555       ,max</td>\n",
       "    </tr>\n",
       "    <tr>\n",
       "      <th>1</th>\n",
       "      <td>555</td>\n",
       "      <td>Max</td>\n",
       "      <td>14432274.0</td>\n",
       "      <td>max Cream Regular Top</td>\n",
       "      <td>199.0</td>\n",
       "      <td>Cream</td>\n",
       "      <td>max</td>\n",
       "      <td>262.0</td>\n",
       "      <td>4.576336</td>\n",
       "      <td>&lt;ul&gt;&lt;li&gt;Cream regular top&lt;/li&gt;&lt;li&gt;Solid&lt;/li&gt;&lt;l...</td>\n",
       "      <td>{'Body Shape ID': '443,333,324,424', 'Body or ...</td>\n",
       "      <td>555       ,max</td>\n",
       "    </tr>\n",
       "    <tr>\n",
       "      <th>2</th>\n",
       "      <td>555</td>\n",
       "      <td>Max</td>\n",
       "      <td>14432282.0</td>\n",
       "      <td>max White Regular Top</td>\n",
       "      <td>199.0</td>\n",
       "      <td>White</td>\n",
       "      <td>max</td>\n",
       "      <td>308.0</td>\n",
       "      <td>4.464286</td>\n",
       "      <td>&lt;ul&gt; &lt;li&gt; White regular top &lt;/li&gt; &lt;li&gt; Solid &lt;...</td>\n",
       "      <td>{'Body Shape ID': '443,333,324,424', 'Body or ...</td>\n",
       "      <td>555       ,max</td>\n",
       "    </tr>\n",
       "    <tr>\n",
       "      <th>3</th>\n",
       "      <td>438</td>\n",
       "      <td>Juniors By Lifestyle</td>\n",
       "      <td>18988158.0</td>\n",
       "      <td>Juniors by Lifestyle Kids-Girls White Pure Cot...</td>\n",
       "      <td>249.0</td>\n",
       "      <td>White</td>\n",
       "      <td>Juniors by Lifestyle</td>\n",
       "      <td>NaN</td>\n",
       "      <td>NaN</td>\n",
       "      <td>&lt;ul&gt; &lt;li&gt; White regular top &lt;/li&gt; &lt;li&gt; Abstrac...</td>\n",
       "      <td>{'Body or Garment Size': 'Garment Measurements...</td>\n",
       "      <td>438       ,Juniors by Lifestyle</td>\n",
       "    </tr>\n",
       "    <tr>\n",
       "      <th>4</th>\n",
       "      <td>431</td>\n",
       "      <td>Jockey</td>\n",
       "      <td>14846678.0</td>\n",
       "      <td>Jockey Women Black Pure Cotton Solid Tank Top</td>\n",
       "      <td>295.0</td>\n",
       "      <td>Black</td>\n",
       "      <td>Jockey</td>\n",
       "      <td>117.0</td>\n",
       "      <td>4.504273</td>\n",
       "      <td>Black&amp;nbsp;solid tank top, scoop neck, sleevel...</td>\n",
       "      <td>{'Body Shape ID': '333,424', 'Body or Garment ...</td>\n",
       "      <td>431       ,Jockey</td>\n",
       "    </tr>\n",
       "  </tbody>\n",
       "</table>\n",
       "</div>"
      ],
      "text/plain": [
       "  brand_id            brand_name        p_id  \\\n",
       "0      555                   Max  19000284.0   \n",
       "1      555                   Max  14432274.0   \n",
       "2      555                   Max  14432282.0   \n",
       "3      438  Juniors By Lifestyle  18988158.0   \n",
       "4      431                Jockey  14846678.0   \n",
       "\n",
       "                                                name  price colour  \\\n",
       "0                       max Peach-Coloured Print Top  169.0  Peach   \n",
       "1                              max Cream Regular Top  199.0  Cream   \n",
       "2                              max White Regular Top  199.0  White   \n",
       "3  Juniors by Lifestyle Kids-Girls White Pure Cot...  249.0  White   \n",
       "4      Jockey Women Black Pure Cotton Solid Tank Top  295.0  Black   \n",
       "\n",
       "                  brand  ratingCount  avg_rating  \\\n",
       "0                   max          NaN         NaN   \n",
       "1                   max        262.0    4.576336   \n",
       "2                   max        308.0    4.464286   \n",
       "3  Juniors by Lifestyle          NaN         NaN   \n",
       "4                Jockey        117.0    4.504273   \n",
       "\n",
       "                                         description  \\\n",
       "0  <ul><li>Peach-coloured regular top</li><li>Gra...   \n",
       "1  <ul><li>Cream regular top</li><li>Solid</li><l...   \n",
       "2  <ul> <li> White regular top </li> <li> Solid <...   \n",
       "3  <ul> <li> White regular top </li> <li> Abstrac...   \n",
       "4  Black&nbsp;solid tank top, scoop neck, sleevel...   \n",
       "\n",
       "                                        p_attributes  \\\n",
       "0  {'Body or Garment Size': 'Garment Measurements...   \n",
       "1  {'Body Shape ID': '443,333,324,424', 'Body or ...   \n",
       "2  {'Body Shape ID': '443,333,324,424', 'Body or ...   \n",
       "3  {'Body or Garment Size': 'Garment Measurements...   \n",
       "4  {'Body Shape ID': '333,424', 'Body or Garment ...   \n",
       "\n",
       "                          NewBrand  \n",
       "0                   555       ,max  \n",
       "1                   555       ,max  \n",
       "2                   555       ,max  \n",
       "3  438       ,Juniors by Lifestyle  \n",
       "4                431       ,Jockey  "
      ]
     },
     "execution_count": 329,
     "metadata": {},
     "output_type": "execute_result"
    }
   ],
   "source": [
    "data.head()"
   ]
  },
  {
   "cell_type": "code",
   "execution_count": 330,
   "id": "1973887a",
   "metadata": {},
   "outputs": [
    {
     "data": {
      "text/html": [
       "<div>\n",
       "<style scoped>\n",
       "    .dataframe tbody tr th:only-of-type {\n",
       "        vertical-align: middle;\n",
       "    }\n",
       "\n",
       "    .dataframe tbody tr th {\n",
       "        vertical-align: top;\n",
       "    }\n",
       "\n",
       "    .dataframe thead th {\n",
       "        text-align: right;\n",
       "    }\n",
       "</style>\n",
       "<table border=\"1\" class=\"dataframe\">\n",
       "  <thead>\n",
       "    <tr style=\"text-align: right;\">\n",
       "      <th></th>\n",
       "      <th>brand_id</th>\n",
       "      <th>brand_name</th>\n",
       "      <th>p_id</th>\n",
       "      <th>name</th>\n",
       "      <th>price</th>\n",
       "      <th>colour</th>\n",
       "      <th>brand</th>\n",
       "      <th>ratingCount</th>\n",
       "      <th>avg_rating</th>\n",
       "      <th>description</th>\n",
       "      <th>p_attributes</th>\n",
       "      <th>NewBrand</th>\n",
       "    </tr>\n",
       "  </thead>\n",
       "  <tbody>\n",
       "    <tr>\n",
       "      <th>14301</th>\n",
       "      <td>801</td>\n",
       "      <td>Shaily</td>\n",
       "      <td>11411284.0</td>\n",
       "      <td>Shaily Off-White &amp; Pink Embroidered Semi-Stitc...</td>\n",
       "      <td>30090.0</td>\n",
       "      <td>Off White</td>\n",
       "      <td>Shaily</td>\n",
       "      <td>5.0</td>\n",
       "      <td>5.00</td>\n",
       "      <td>Off-White lehenga choli with dupatta, has thre...</td>\n",
       "      <td>{'Blouse Closure': 'NA', 'Blouse Fabric': 'Pol...</td>\n",
       "      <td>801       ,Shaily</td>\n",
       "    </tr>\n",
       "    <tr>\n",
       "      <th>14302</th>\n",
       "      <td>734</td>\n",
       "      <td>Readiprint Fashions</td>\n",
       "      <td>18536426.0</td>\n",
       "      <td>Readiprint Fashions Blue &amp; Golden Embroidered ...</td>\n",
       "      <td>30500.0</td>\n",
       "      <td>Blue</td>\n",
       "      <td>Readiprint Fashions</td>\n",
       "      <td>NaN</td>\n",
       "      <td>NaN</td>\n",
       "      <td>Blue and golden embroidered lehenga choli with...</td>\n",
       "      <td>{'Blouse Closure': 'NA', 'Blouse Fabric': 'Art...</td>\n",
       "      <td>734       ,Readiprint Fashions</td>\n",
       "    </tr>\n",
       "    <tr>\n",
       "      <th>14303</th>\n",
       "      <td>734</td>\n",
       "      <td>Readiprint Fashions</td>\n",
       "      <td>15721148.0</td>\n",
       "      <td>Readiprint Fashions Magenta Embroidered Semi-S...</td>\n",
       "      <td>33350.0</td>\n",
       "      <td>Magenta</td>\n",
       "      <td>Readiprint Fashions</td>\n",
       "      <td>4.0</td>\n",
       "      <td>3.25</td>\n",
       "      <td>Magenta embroidered lehenga choli with dupatta...</td>\n",
       "      <td>{'Blouse Closure': 'NA', 'Blouse Fabric': 'Raw...</td>\n",
       "      <td>734       ,Readiprint Fashions</td>\n",
       "    </tr>\n",
       "    <tr>\n",
       "      <th>14304</th>\n",
       "      <td>590</td>\n",
       "      <td>Moksha Designs</td>\n",
       "      <td>10898748.0</td>\n",
       "      <td>MOKSHA DESIGNS Maroon &amp; Pink Embroidered Ready...</td>\n",
       "      <td>47999.0</td>\n",
       "      <td>Maroon</td>\n",
       "      <td>MOKSHA DESIGNS</td>\n",
       "      <td>NaN</td>\n",
       "      <td>NaN</td>\n",
       "      <td>Maroon lehenga choli&lt;br&gt;Maroon blouse, three-q...</td>\n",
       "      <td>{'Blouse Closure': 'NA', 'Blouse Fabric': 'Vel...</td>\n",
       "      <td>590       ,MOKSHA DESIGNS</td>\n",
       "    </tr>\n",
       "    <tr>\n",
       "      <th>14305</th>\n",
       "      <td>p_id</td>\n",
       "      <td>name</td>\n",
       "      <td>NaN</td>\n",
       "      <td>NaN</td>\n",
       "      <td>NaN</td>\n",
       "      <td>NaN</td>\n",
       "      <td>NaN</td>\n",
       "      <td>NaN</td>\n",
       "      <td>NaN</td>\n",
       "      <td>NaN</td>\n",
       "      <td>NaN</td>\n",
       "      <td>p_id      ,</td>\n",
       "    </tr>\n",
       "  </tbody>\n",
       "</table>\n",
       "</div>"
      ],
      "text/plain": [
       "         brand_id           brand_name        p_id  \\\n",
       "14301         801               Shaily  11411284.0   \n",
       "14302         734  Readiprint Fashions  18536426.0   \n",
       "14303         734  Readiprint Fashions  15721148.0   \n",
       "14304         590       Moksha Designs  10898748.0   \n",
       "14305  p_id                       name         NaN   \n",
       "\n",
       "                                                    name    price     colour  \\\n",
       "14301  Shaily Off-White & Pink Embroidered Semi-Stitc...  30090.0  Off White   \n",
       "14302  Readiprint Fashions Blue & Golden Embroidered ...  30500.0       Blue   \n",
       "14303  Readiprint Fashions Magenta Embroidered Semi-S...  33350.0    Magenta   \n",
       "14304  MOKSHA DESIGNS Maroon & Pink Embroidered Ready...  47999.0     Maroon   \n",
       "14305                                                NaN      NaN        NaN   \n",
       "\n",
       "                     brand  ratingCount  avg_rating  \\\n",
       "14301               Shaily          5.0        5.00   \n",
       "14302  Readiprint Fashions          NaN         NaN   \n",
       "14303  Readiprint Fashions          4.0        3.25   \n",
       "14304       MOKSHA DESIGNS          NaN         NaN   \n",
       "14305                  NaN          NaN         NaN   \n",
       "\n",
       "                                             description  \\\n",
       "14301  Off-White lehenga choli with dupatta, has thre...   \n",
       "14302  Blue and golden embroidered lehenga choli with...   \n",
       "14303  Magenta embroidered lehenga choli with dupatta...   \n",
       "14304  Maroon lehenga choli<br>Maroon blouse, three-q...   \n",
       "14305                                                NaN   \n",
       "\n",
       "                                            p_attributes  \\\n",
       "14301  {'Blouse Closure': 'NA', 'Blouse Fabric': 'Pol...   \n",
       "14302  {'Blouse Closure': 'NA', 'Blouse Fabric': 'Art...   \n",
       "14303  {'Blouse Closure': 'NA', 'Blouse Fabric': 'Raw...   \n",
       "14304  {'Blouse Closure': 'NA', 'Blouse Fabric': 'Vel...   \n",
       "14305                                                NaN   \n",
       "\n",
       "                             NewBrand  \n",
       "14301               801       ,Shaily  \n",
       "14302  734       ,Readiprint Fashions  \n",
       "14303  734       ,Readiprint Fashions  \n",
       "14304       590       ,MOKSHA DESIGNS  \n",
       "14305                     p_id      ,  "
      ]
     },
     "execution_count": 330,
     "metadata": {},
     "output_type": "execute_result"
    }
   ],
   "source": [
    "data.tail()"
   ]
  },
  {
   "cell_type": "code",
   "execution_count": 331,
   "id": "a5e12626",
   "metadata": {},
   "outputs": [
    {
     "data": {
      "text/html": [
       "<div>\n",
       "<style scoped>\n",
       "    .dataframe tbody tr th:only-of-type {\n",
       "        vertical-align: middle;\n",
       "    }\n",
       "\n",
       "    .dataframe tbody tr th {\n",
       "        vertical-align: top;\n",
       "    }\n",
       "\n",
       "    .dataframe thead th {\n",
       "        text-align: right;\n",
       "    }\n",
       "</style>\n",
       "<table border=\"1\" class=\"dataframe\">\n",
       "  <thead>\n",
       "    <tr style=\"text-align: right;\">\n",
       "      <th></th>\n",
       "      <th>p_id</th>\n",
       "      <th>price</th>\n",
       "      <th>ratingCount</th>\n",
       "      <th>avg_rating</th>\n",
       "    </tr>\n",
       "  </thead>\n",
       "  <tbody>\n",
       "    <tr>\n",
       "      <th>count</th>\n",
       "      <td>1.430500e+04</td>\n",
       "      <td>14305.000000</td>\n",
       "      <td>6578.000000</td>\n",
       "      <td>6578.000000</td>\n",
       "    </tr>\n",
       "    <tr>\n",
       "      <th>mean</th>\n",
       "      <td>1.569321e+07</td>\n",
       "      <td>2964.556798</td>\n",
       "      <td>183.612344</td>\n",
       "      <td>4.101165</td>\n",
       "    </tr>\n",
       "    <tr>\n",
       "      <th>std</th>\n",
       "      <td>3.151400e+06</td>\n",
       "      <td>2564.315666</td>\n",
       "      <td>779.757051</td>\n",
       "      <td>0.475717</td>\n",
       "    </tr>\n",
       "    <tr>\n",
       "      <th>min</th>\n",
       "      <td>7.016600e+04</td>\n",
       "      <td>169.000000</td>\n",
       "      <td>1.000000</td>\n",
       "      <td>1.000000</td>\n",
       "    </tr>\n",
       "    <tr>\n",
       "      <th>25%</th>\n",
       "      <td>1.413877e+07</td>\n",
       "      <td>1599.000000</td>\n",
       "      <td>9.000000</td>\n",
       "      <td>3.888889</td>\n",
       "    </tr>\n",
       "    <tr>\n",
       "      <th>50%</th>\n",
       "      <td>1.638248e+07</td>\n",
       "      <td>2200.000000</td>\n",
       "      <td>23.000000</td>\n",
       "      <td>4.180636</td>\n",
       "    </tr>\n",
       "    <tr>\n",
       "      <th>75%</th>\n",
       "      <td>1.808456e+07</td>\n",
       "      <td>3495.000000</td>\n",
       "      <td>80.000000</td>\n",
       "      <td>4.392823</td>\n",
       "    </tr>\n",
       "    <tr>\n",
       "      <th>max</th>\n",
       "      <td>1.941576e+07</td>\n",
       "      <td>47999.000000</td>\n",
       "      <td>21274.000000</td>\n",
       "      <td>5.000000</td>\n",
       "    </tr>\n",
       "  </tbody>\n",
       "</table>\n",
       "</div>"
      ],
      "text/plain": [
       "               p_id         price   ratingCount   avg_rating\n",
       "count  1.430500e+04  14305.000000   6578.000000  6578.000000\n",
       "mean   1.569321e+07   2964.556798    183.612344     4.101165\n",
       "std    3.151400e+06   2564.315666    779.757051     0.475717\n",
       "min    7.016600e+04    169.000000      1.000000     1.000000\n",
       "25%    1.413877e+07   1599.000000      9.000000     3.888889\n",
       "50%    1.638248e+07   2200.000000     23.000000     4.180636\n",
       "75%    1.808456e+07   3495.000000     80.000000     4.392823\n",
       "max    1.941576e+07  47999.000000  21274.000000     5.000000"
      ]
     },
     "execution_count": 331,
     "metadata": {},
     "output_type": "execute_result"
    }
   ],
   "source": [
    "data.describe()"
   ]
  },
  {
   "cell_type": "code",
   "execution_count": 332,
   "id": "9d1ecdd0",
   "metadata": {
    "scrolled": true
   },
   "outputs": [
    {
     "name": "stdout",
     "output_type": "stream",
     "text": [
      "<class 'pandas.core.frame.DataFrame'>\n",
      "RangeIndex: 14306 entries, 0 to 14305\n",
      "Data columns (total 12 columns):\n",
      " #   Column        Non-Null Count  Dtype  \n",
      "---  ------        --------------  -----  \n",
      " 0   brand_id      14306 non-null  object \n",
      " 1   brand_name    14306 non-null  object \n",
      " 2   p_id          14305 non-null  float64\n",
      " 3   name          14305 non-null  object \n",
      " 4   price         14305 non-null  float64\n",
      " 5   colour        14302 non-null  object \n",
      " 6   brand         14305 non-null  object \n",
      " 7   ratingCount   6578 non-null   float64\n",
      " 8   avg_rating    6578 non-null   float64\n",
      " 9   description   14305 non-null  object \n",
      " 10  p_attributes  14305 non-null  object \n",
      " 11  NewBrand      14306 non-null  object \n",
      "dtypes: float64(4), object(8)\n",
      "memory usage: 1.3+ MB\n"
     ]
    }
   ],
   "source": [
    "data.info()\n"
   ]
  },
  {
   "cell_type": "code",
   "execution_count": 333,
   "id": "1ff9811b",
   "metadata": {},
   "outputs": [
    {
     "data": {
      "text/plain": [
       "(14306, 12)"
      ]
     },
     "execution_count": 333,
     "metadata": {},
     "output_type": "execute_result"
    }
   ],
   "source": [
    "data.shape\n",
    "# The dataset has 14306 rows and 12 columns"
   ]
  },
  {
   "cell_type": "markdown",
   "id": "23016868",
   "metadata": {},
   "source": [
    "- There are 14306 rows and 12 columns in the dataset"
   ]
  },
  {
   "cell_type": "code",
   "execution_count": 334,
   "id": "dae5012b",
   "metadata": {},
   "outputs": [
    {
     "data": {
      "text/plain": [
       "Index(['brand_id', 'brand_name', 'p_id', 'name', 'price', 'colour', 'brand',\n",
       "       'ratingCount', 'avg_rating', 'description', 'p_attributes', 'NewBrand'],\n",
       "      dtype='object')"
      ]
     },
     "execution_count": 334,
     "metadata": {},
     "output_type": "execute_result"
    }
   ],
   "source": [
    "data.columns"
   ]
  },
  {
   "cell_type": "code",
   "execution_count": 335,
   "id": "052d42d0",
   "metadata": {},
   "outputs": [
    {
     "data": {
      "text/html": [
       "<div>\n",
       "<style scoped>\n",
       "    .dataframe tbody tr th:only-of-type {\n",
       "        vertical-align: middle;\n",
       "    }\n",
       "\n",
       "    .dataframe tbody tr th {\n",
       "        vertical-align: top;\n",
       "    }\n",
       "\n",
       "    .dataframe thead th {\n",
       "        text-align: right;\n",
       "    }\n",
       "</style>\n",
       "<table border=\"1\" class=\"dataframe\">\n",
       "  <thead>\n",
       "    <tr style=\"text-align: right;\">\n",
       "      <th></th>\n",
       "      <th>p_id</th>\n",
       "      <th>price</th>\n",
       "      <th>ratingCount</th>\n",
       "      <th>avg_rating</th>\n",
       "    </tr>\n",
       "  </thead>\n",
       "  <tbody>\n",
       "    <tr>\n",
       "      <th>count</th>\n",
       "      <td>1.430500e+04</td>\n",
       "      <td>14305.000000</td>\n",
       "      <td>6578.000000</td>\n",
       "      <td>6578.000000</td>\n",
       "    </tr>\n",
       "    <tr>\n",
       "      <th>mean</th>\n",
       "      <td>1.569321e+07</td>\n",
       "      <td>2964.556798</td>\n",
       "      <td>183.612344</td>\n",
       "      <td>4.101165</td>\n",
       "    </tr>\n",
       "    <tr>\n",
       "      <th>std</th>\n",
       "      <td>3.151400e+06</td>\n",
       "      <td>2564.315666</td>\n",
       "      <td>779.757051</td>\n",
       "      <td>0.475717</td>\n",
       "    </tr>\n",
       "    <tr>\n",
       "      <th>min</th>\n",
       "      <td>7.016600e+04</td>\n",
       "      <td>169.000000</td>\n",
       "      <td>1.000000</td>\n",
       "      <td>1.000000</td>\n",
       "    </tr>\n",
       "    <tr>\n",
       "      <th>25%</th>\n",
       "      <td>1.413877e+07</td>\n",
       "      <td>1599.000000</td>\n",
       "      <td>9.000000</td>\n",
       "      <td>3.888889</td>\n",
       "    </tr>\n",
       "    <tr>\n",
       "      <th>50%</th>\n",
       "      <td>1.638248e+07</td>\n",
       "      <td>2200.000000</td>\n",
       "      <td>23.000000</td>\n",
       "      <td>4.180636</td>\n",
       "    </tr>\n",
       "    <tr>\n",
       "      <th>75%</th>\n",
       "      <td>1.808456e+07</td>\n",
       "      <td>3495.000000</td>\n",
       "      <td>80.000000</td>\n",
       "      <td>4.392823</td>\n",
       "    </tr>\n",
       "    <tr>\n",
       "      <th>max</th>\n",
       "      <td>1.941576e+07</td>\n",
       "      <td>47999.000000</td>\n",
       "      <td>21274.000000</td>\n",
       "      <td>5.000000</td>\n",
       "    </tr>\n",
       "  </tbody>\n",
       "</table>\n",
       "</div>"
      ],
      "text/plain": [
       "               p_id         price   ratingCount   avg_rating\n",
       "count  1.430500e+04  14305.000000   6578.000000  6578.000000\n",
       "mean   1.569321e+07   2964.556798    183.612344     4.101165\n",
       "std    3.151400e+06   2564.315666    779.757051     0.475717\n",
       "min    7.016600e+04    169.000000      1.000000     1.000000\n",
       "25%    1.413877e+07   1599.000000      9.000000     3.888889\n",
       "50%    1.638248e+07   2200.000000     23.000000     4.180636\n",
       "75%    1.808456e+07   3495.000000     80.000000     4.392823\n",
       "max    1.941576e+07  47999.000000  21274.000000     5.000000"
      ]
     },
     "execution_count": 335,
     "metadata": {},
     "output_type": "execute_result"
    }
   ],
   "source": [
    "data.describe()"
   ]
  },
  {
   "cell_type": "markdown",
   "id": "9b20d9d0",
   "metadata": {},
   "source": [
    "### Data Cleaning\n",
    "- Removing unneccesary columns\n",
    "- Change data type\n",
    "- Check for missing values\n",
    "- Replacing missing values\n",
    "- Check for Duplicates\n",
    "- Deleting Duplicates"
   ]
  },
  {
   "cell_type": "markdown",
   "id": "5ae9e148",
   "metadata": {},
   "source": [
    "#### Removing unnecessary columns\n",
    "- The 'brand' column, which has already been merged with 'brand_id' column to produce the 'NewBrand' column  is dropped from the dataset, since the columns contain same data value with brand_name"
   ]
  },
  {
   "cell_type": "code",
   "execution_count": 336,
   "id": "91671d81",
   "metadata": {},
   "outputs": [],
   "source": [
    "data.drop(columns=['brand'], inplace=True)"
   ]
  },
  {
   "cell_type": "markdown",
   "id": "3fec42ba",
   "metadata": {},
   "source": [
    "#### Check for Unique values"
   ]
  },
  {
   "cell_type": "code",
   "execution_count": 337,
   "id": "1c7aeb15",
   "metadata": {},
   "outputs": [
    {
     "data": {
      "text/plain": [
       "brand_id         1021\n",
       "brand_name       1021\n",
       "p_id            14221\n",
       "name            13880\n",
       "price            1209\n",
       "colour             49\n",
       "ratingCount       829\n",
       "avg_rating       2368\n",
       "description     14230\n",
       "p_attributes    13094\n",
       "NewBrand         1021\n",
       "dtype: int64"
      ]
     },
     "execution_count": 337,
     "metadata": {},
     "output_type": "execute_result"
    }
   ],
   "source": [
    "data.nunique()"
   ]
  },
  {
   "cell_type": "markdown",
   "id": "92a68069",
   "metadata": {},
   "source": [
    "#### Checking for missing values\n",
    "- Missing values are checked and replaced"
   ]
  },
  {
   "cell_type": "code",
   "execution_count": 338,
   "id": "ce931c6a",
   "metadata": {
    "scrolled": true
   },
   "outputs": [
    {
     "data": {
      "text/plain": [
       "brand_id           0\n",
       "brand_name         0\n",
       "p_id               1\n",
       "name               1\n",
       "price              1\n",
       "colour             4\n",
       "ratingCount     7728\n",
       "avg_rating      7728\n",
       "description        1\n",
       "p_attributes       1\n",
       "NewBrand           0\n",
       "dtype: int64"
      ]
     },
     "execution_count": 338,
     "metadata": {},
     "output_type": "execute_result"
    }
   ],
   "source": [
    "# Check for missing values\n",
    "\n",
    "data.isnull().sum().copy()"
   ]
  },
  {
   "cell_type": "markdown",
   "id": "6c27ed7e",
   "metadata": {},
   "source": [
    "- There are several missing values in the data set, ratingCount and avg_rating columns are the columns with the highest missing values, consisting of 7728 values each. Eliminating the entire entry will shrink the dataset and have an impact on the machine learning model's accuracy. Thus, the missing values are replaced with their individual modes. Mode is the value that shows up most frequently in a data collection."
   ]
  },
  {
   "cell_type": "code",
   "execution_count": 339,
   "id": "f0cd1419",
   "metadata": {},
   "outputs": [
    {
     "data": {
      "text/html": [
       "<div>\n",
       "<style scoped>\n",
       "    .dataframe tbody tr th:only-of-type {\n",
       "        vertical-align: middle;\n",
       "    }\n",
       "\n",
       "    .dataframe tbody tr th {\n",
       "        vertical-align: top;\n",
       "    }\n",
       "\n",
       "    .dataframe thead th {\n",
       "        text-align: right;\n",
       "    }\n",
       "</style>\n",
       "<table border=\"1\" class=\"dataframe\">\n",
       "  <thead>\n",
       "    <tr style=\"text-align: right;\">\n",
       "      <th></th>\n",
       "      <th>brand_id</th>\n",
       "      <th>brand_name</th>\n",
       "      <th>p_id</th>\n",
       "      <th>name</th>\n",
       "      <th>price</th>\n",
       "      <th>colour</th>\n",
       "      <th>ratingCount</th>\n",
       "      <th>avg_rating</th>\n",
       "      <th>description</th>\n",
       "      <th>p_attributes</th>\n",
       "      <th>NewBrand</th>\n",
       "    </tr>\n",
       "  </thead>\n",
       "  <tbody>\n",
       "    <tr>\n",
       "      <th>14305</th>\n",
       "      <td>p_id</td>\n",
       "      <td>name</td>\n",
       "      <td>NaN</td>\n",
       "      <td>NaN</td>\n",
       "      <td>NaN</td>\n",
       "      <td>NaN</td>\n",
       "      <td>NaN</td>\n",
       "      <td>NaN</td>\n",
       "      <td>NaN</td>\n",
       "      <td>NaN</td>\n",
       "      <td>p_id      ,</td>\n",
       "    </tr>\n",
       "  </tbody>\n",
       "</table>\n",
       "</div>"
      ],
      "text/plain": [
       "         brand_id brand_name  p_id name  price colour  ratingCount  \\\n",
       "14305  p_id             name   NaN  NaN    NaN    NaN          NaN   \n",
       "\n",
       "       avg_rating description p_attributes     NewBrand  \n",
       "14305         NaN         NaN          NaN  p_id      ,  "
      ]
     },
     "execution_count": 339,
     "metadata": {},
     "output_type": "execute_result"
    }
   ],
   "source": [
    "#Check the missing values under p_id\n",
    "data[pd.isna(data[\"p_id\"])]"
   ]
  },
  {
   "cell_type": "code",
   "execution_count": 340,
   "id": "adca6e1f",
   "metadata": {},
   "outputs": [
    {
     "data": {
      "text/html": [
       "<div>\n",
       "<style scoped>\n",
       "    .dataframe tbody tr th:only-of-type {\n",
       "        vertical-align: middle;\n",
       "    }\n",
       "\n",
       "    .dataframe tbody tr th {\n",
       "        vertical-align: top;\n",
       "    }\n",
       "\n",
       "    .dataframe thead th {\n",
       "        text-align: right;\n",
       "    }\n",
       "</style>\n",
       "<table border=\"1\" class=\"dataframe\">\n",
       "  <thead>\n",
       "    <tr style=\"text-align: right;\">\n",
       "      <th></th>\n",
       "      <th>brand_id</th>\n",
       "      <th>brand_name</th>\n",
       "      <th>p_id</th>\n",
       "      <th>name</th>\n",
       "      <th>price</th>\n",
       "      <th>colour</th>\n",
       "      <th>ratingCount</th>\n",
       "      <th>avg_rating</th>\n",
       "      <th>description</th>\n",
       "      <th>p_attributes</th>\n",
       "      <th>NewBrand</th>\n",
       "    </tr>\n",
       "  </thead>\n",
       "  <tbody>\n",
       "    <tr>\n",
       "      <th>14305</th>\n",
       "      <td>p_id</td>\n",
       "      <td>name</td>\n",
       "      <td>NaN</td>\n",
       "      <td>NaN</td>\n",
       "      <td>NaN</td>\n",
       "      <td>NaN</td>\n",
       "      <td>NaN</td>\n",
       "      <td>NaN</td>\n",
       "      <td>NaN</td>\n",
       "      <td>NaN</td>\n",
       "      <td>p_id      ,</td>\n",
       "    </tr>\n",
       "  </tbody>\n",
       "</table>\n",
       "</div>"
      ],
      "text/plain": [
       "         brand_id brand_name  p_id name  price colour  ratingCount  \\\n",
       "14305  p_id             name   NaN  NaN    NaN    NaN          NaN   \n",
       "\n",
       "       avg_rating description p_attributes     NewBrand  \n",
       "14305         NaN         NaN          NaN  p_id      ,  "
      ]
     },
     "execution_count": 340,
     "metadata": {},
     "output_type": "execute_result"
    }
   ],
   "source": [
    "#Check the missing values under name\n",
    "data[pd.isna(data[\"name\"])]"
   ]
  },
  {
   "cell_type": "code",
   "execution_count": 341,
   "id": "2fe5c4d9",
   "metadata": {},
   "outputs": [
    {
     "data": {
      "text/html": [
       "<div>\n",
       "<style scoped>\n",
       "    .dataframe tbody tr th:only-of-type {\n",
       "        vertical-align: middle;\n",
       "    }\n",
       "\n",
       "    .dataframe tbody tr th {\n",
       "        vertical-align: top;\n",
       "    }\n",
       "\n",
       "    .dataframe thead th {\n",
       "        text-align: right;\n",
       "    }\n",
       "</style>\n",
       "<table border=\"1\" class=\"dataframe\">\n",
       "  <thead>\n",
       "    <tr style=\"text-align: right;\">\n",
       "      <th></th>\n",
       "      <th>brand_id</th>\n",
       "      <th>brand_name</th>\n",
       "      <th>p_id</th>\n",
       "      <th>name</th>\n",
       "      <th>price</th>\n",
       "      <th>colour</th>\n",
       "      <th>ratingCount</th>\n",
       "      <th>avg_rating</th>\n",
       "      <th>description</th>\n",
       "      <th>p_attributes</th>\n",
       "      <th>NewBrand</th>\n",
       "    </tr>\n",
       "  </thead>\n",
       "  <tbody>\n",
       "    <tr>\n",
       "      <th>14305</th>\n",
       "      <td>p_id</td>\n",
       "      <td>name</td>\n",
       "      <td>NaN</td>\n",
       "      <td>NaN</td>\n",
       "      <td>NaN</td>\n",
       "      <td>NaN</td>\n",
       "      <td>NaN</td>\n",
       "      <td>NaN</td>\n",
       "      <td>NaN</td>\n",
       "      <td>NaN</td>\n",
       "      <td>p_id      ,</td>\n",
       "    </tr>\n",
       "  </tbody>\n",
       "</table>\n",
       "</div>"
      ],
      "text/plain": [
       "         brand_id brand_name  p_id name  price colour  ratingCount  \\\n",
       "14305  p_id             name   NaN  NaN    NaN    NaN          NaN   \n",
       "\n",
       "       avg_rating description p_attributes     NewBrand  \n",
       "14305         NaN         NaN          NaN  p_id      ,  "
      ]
     },
     "execution_count": 341,
     "metadata": {},
     "output_type": "execute_result"
    }
   ],
   "source": [
    "#Check the missing values under price\n",
    "data[pd.isna(data[\"price\"])]"
   ]
  },
  {
   "cell_type": "code",
   "execution_count": 342,
   "id": "77638123",
   "metadata": {},
   "outputs": [
    {
     "data": {
      "text/html": [
       "<div>\n",
       "<style scoped>\n",
       "    .dataframe tbody tr th:only-of-type {\n",
       "        vertical-align: middle;\n",
       "    }\n",
       "\n",
       "    .dataframe tbody tr th {\n",
       "        vertical-align: top;\n",
       "    }\n",
       "\n",
       "    .dataframe thead th {\n",
       "        text-align: right;\n",
       "    }\n",
       "</style>\n",
       "<table border=\"1\" class=\"dataframe\">\n",
       "  <thead>\n",
       "    <tr style=\"text-align: right;\">\n",
       "      <th></th>\n",
       "      <th>brand_id</th>\n",
       "      <th>brand_name</th>\n",
       "      <th>p_id</th>\n",
       "      <th>name</th>\n",
       "      <th>price</th>\n",
       "      <th>colour</th>\n",
       "      <th>ratingCount</th>\n",
       "      <th>avg_rating</th>\n",
       "      <th>description</th>\n",
       "      <th>p_attributes</th>\n",
       "      <th>NewBrand</th>\n",
       "    </tr>\n",
       "  </thead>\n",
       "  <tbody>\n",
       "    <tr>\n",
       "      <th>14305</th>\n",
       "      <td>p_id</td>\n",
       "      <td>name</td>\n",
       "      <td>NaN</td>\n",
       "      <td>NaN</td>\n",
       "      <td>NaN</td>\n",
       "      <td>NaN</td>\n",
       "      <td>NaN</td>\n",
       "      <td>NaN</td>\n",
       "      <td>NaN</td>\n",
       "      <td>NaN</td>\n",
       "      <td>p_id      ,</td>\n",
       "    </tr>\n",
       "  </tbody>\n",
       "</table>\n",
       "</div>"
      ],
      "text/plain": [
       "         brand_id brand_name  p_id name  price colour  ratingCount  \\\n",
       "14305  p_id             name   NaN  NaN    NaN    NaN          NaN   \n",
       "\n",
       "       avg_rating description p_attributes     NewBrand  \n",
       "14305         NaN         NaN          NaN  p_id      ,  "
      ]
     },
     "execution_count": 342,
     "metadata": {},
     "output_type": "execute_result"
    }
   ],
   "source": [
    "#Check the missing values under p_attributes\n",
    "data[pd.isna(data[\"p_attributes\"])]"
   ]
  },
  {
   "cell_type": "code",
   "execution_count": 343,
   "id": "ca141cf5",
   "metadata": {},
   "outputs": [
    {
     "data": {
      "text/html": [
       "<div>\n",
       "<style scoped>\n",
       "    .dataframe tbody tr th:only-of-type {\n",
       "        vertical-align: middle;\n",
       "    }\n",
       "\n",
       "    .dataframe tbody tr th {\n",
       "        vertical-align: top;\n",
       "    }\n",
       "\n",
       "    .dataframe thead th {\n",
       "        text-align: right;\n",
       "    }\n",
       "</style>\n",
       "<table border=\"1\" class=\"dataframe\">\n",
       "  <thead>\n",
       "    <tr style=\"text-align: right;\">\n",
       "      <th></th>\n",
       "      <th>brand_id</th>\n",
       "      <th>brand_name</th>\n",
       "      <th>p_id</th>\n",
       "      <th>name</th>\n",
       "      <th>price</th>\n",
       "      <th>colour</th>\n",
       "      <th>ratingCount</th>\n",
       "      <th>avg_rating</th>\n",
       "      <th>description</th>\n",
       "      <th>p_attributes</th>\n",
       "      <th>NewBrand</th>\n",
       "    </tr>\n",
       "  </thead>\n",
       "  <tbody>\n",
       "    <tr>\n",
       "      <th>14305</th>\n",
       "      <td>p_id</td>\n",
       "      <td>name</td>\n",
       "      <td>NaN</td>\n",
       "      <td>NaN</td>\n",
       "      <td>NaN</td>\n",
       "      <td>NaN</td>\n",
       "      <td>NaN</td>\n",
       "      <td>NaN</td>\n",
       "      <td>NaN</td>\n",
       "      <td>NaN</td>\n",
       "      <td>p_id      ,</td>\n",
       "    </tr>\n",
       "  </tbody>\n",
       "</table>\n",
       "</div>"
      ],
      "text/plain": [
       "         brand_id brand_name  p_id name  price colour  ratingCount  \\\n",
       "14305  p_id             name   NaN  NaN    NaN    NaN          NaN   \n",
       "\n",
       "       avg_rating description p_attributes     NewBrand  \n",
       "14305         NaN         NaN          NaN  p_id      ,  "
      ]
     },
     "execution_count": 343,
     "metadata": {},
     "output_type": "execute_result"
    }
   ],
   "source": [
    "#Check the missing values under description\n",
    "data[pd.isna(data[\"description\"])]"
   ]
  },
  {
   "cell_type": "markdown",
   "id": "f7739f02",
   "metadata": {},
   "source": [
    "- From the missing data above, the last row on the dataset, row 14306 contains null data all through and will be deleted"
   ]
  },
  {
   "cell_type": "code",
   "execution_count": 344,
   "id": "18d28f61",
   "metadata": {},
   "outputs": [
    {
     "data": {
      "text/html": [
       "<div>\n",
       "<style scoped>\n",
       "    .dataframe tbody tr th:only-of-type {\n",
       "        vertical-align: middle;\n",
       "    }\n",
       "\n",
       "    .dataframe tbody tr th {\n",
       "        vertical-align: top;\n",
       "    }\n",
       "\n",
       "    .dataframe thead th {\n",
       "        text-align: right;\n",
       "    }\n",
       "</style>\n",
       "<table border=\"1\" class=\"dataframe\">\n",
       "  <thead>\n",
       "    <tr style=\"text-align: right;\">\n",
       "      <th></th>\n",
       "      <th>brand_id</th>\n",
       "      <th>brand_name</th>\n",
       "      <th>p_id</th>\n",
       "      <th>name</th>\n",
       "      <th>price</th>\n",
       "      <th>colour</th>\n",
       "      <th>ratingCount</th>\n",
       "      <th>avg_rating</th>\n",
       "      <th>description</th>\n",
       "      <th>p_attributes</th>\n",
       "      <th>NewBrand</th>\n",
       "    </tr>\n",
       "  </thead>\n",
       "  <tbody>\n",
       "    <tr>\n",
       "      <th>14304</th>\n",
       "      <td>590</td>\n",
       "      <td>Moksha Designs</td>\n",
       "      <td>10898748.0</td>\n",
       "      <td>MOKSHA DESIGNS Maroon &amp; Pink Embroidered Ready...</td>\n",
       "      <td>47999.0</td>\n",
       "      <td>Maroon</td>\n",
       "      <td>NaN</td>\n",
       "      <td>NaN</td>\n",
       "      <td>Maroon lehenga choli&lt;br&gt;Maroon blouse, three-q...</td>\n",
       "      <td>{'Blouse Closure': 'NA', 'Blouse Fabric': 'Vel...</td>\n",
       "      <td>590       ,MOKSHA DESIGNS</td>\n",
       "    </tr>\n",
       "  </tbody>\n",
       "</table>\n",
       "</div>"
      ],
      "text/plain": [
       "      brand_id      brand_name        p_id  \\\n",
       "14304      590  Moksha Designs  10898748.0   \n",
       "\n",
       "                                                    name    price  colour  \\\n",
       "14304  MOKSHA DESIGNS Maroon & Pink Embroidered Ready...  47999.0  Maroon   \n",
       "\n",
       "       ratingCount  avg_rating  \\\n",
       "14304          NaN         NaN   \n",
       "\n",
       "                                             description  \\\n",
       "14304  Maroon lehenga choli<br>Maroon blouse, three-q...   \n",
       "\n",
       "                                            p_attributes  \\\n",
       "14304  {'Blouse Closure': 'NA', 'Blouse Fabric': 'Vel...   \n",
       "\n",
       "                        NewBrand  \n",
       "14304  590       ,MOKSHA DESIGNS  "
      ]
     },
     "execution_count": 344,
     "metadata": {},
     "output_type": "execute_result"
    }
   ],
   "source": [
    "data = data.drop([14305])\n",
    "data.tail(1)"
   ]
  },
  {
   "cell_type": "code",
   "execution_count": 345,
   "id": "1f38a09c",
   "metadata": {
    "scrolled": true
   },
   "outputs": [
    {
     "data": {
      "text/html": [
       "<div>\n",
       "<style scoped>\n",
       "    .dataframe tbody tr th:only-of-type {\n",
       "        vertical-align: middle;\n",
       "    }\n",
       "\n",
       "    .dataframe tbody tr th {\n",
       "        vertical-align: top;\n",
       "    }\n",
       "\n",
       "    .dataframe thead th {\n",
       "        text-align: right;\n",
       "    }\n",
       "</style>\n",
       "<table border=\"1\" class=\"dataframe\">\n",
       "  <thead>\n",
       "    <tr style=\"text-align: right;\">\n",
       "      <th></th>\n",
       "      <th>brand_id</th>\n",
       "      <th>brand_name</th>\n",
       "      <th>p_id</th>\n",
       "      <th>name</th>\n",
       "      <th>price</th>\n",
       "      <th>colour</th>\n",
       "      <th>ratingCount</th>\n",
       "      <th>avg_rating</th>\n",
       "      <th>description</th>\n",
       "      <th>p_attributes</th>\n",
       "      <th>NewBrand</th>\n",
       "    </tr>\n",
       "  </thead>\n",
       "  <tbody>\n",
       "    <tr>\n",
       "      <th>6428</th>\n",
       "      <td>516</td>\n",
       "      <td>Live Ok</td>\n",
       "      <td>19142060.0</td>\n",
       "      <td>LIVE OK Women Boyfriend Fit High-Rise Stretcha...</td>\n",
       "      <td>1999.0</td>\n",
       "      <td>NaN</td>\n",
       "      <td>NaN</td>\n",
       "      <td>NaN</td>\n",
       "      <td>&lt;ul&gt; &lt;li&gt; Dark shade,  no fade jeans &lt;/li&gt; &lt;li...</td>\n",
       "      <td>{'Add-Ons': 'NA', 'Body or Garment Size': 'To-...</td>\n",
       "      <td>516       ,LIVE OK</td>\n",
       "    </tr>\n",
       "    <tr>\n",
       "      <th>7724</th>\n",
       "      <td>544</td>\n",
       "      <td>Mango</td>\n",
       "      <td>16124786.0</td>\n",
       "      <td>MANGO Women Hooded Sweatshirt</td>\n",
       "      <td>2390.0</td>\n",
       "      <td>NaN</td>\n",
       "      <td>NaN</td>\n",
       "      <td>NaN</td>\n",
       "      <td>Solid sweatshirt has a hooded, short drop shou...</td>\n",
       "      <td>{'Body Shape ID': '443,424,324', 'Body or Garm...</td>\n",
       "      <td>544       ,MANGO</td>\n",
       "    </tr>\n",
       "    <tr>\n",
       "      <th>12774</th>\n",
       "      <td>111</td>\n",
       "      <td>Baisacrafts</td>\n",
       "      <td>19145038.0</td>\n",
       "      <td>Baisacrafts Women Pure Cotton Kurta with Trous...</td>\n",
       "      <td>5450.0</td>\n",
       "      <td>NaN</td>\n",
       "      <td>NaN</td>\n",
       "      <td>NaN</td>\n",
       "      <td>Solid Kurta with Trousers with dupatta&lt;br&gt;&lt;br&gt;...</td>\n",
       "      <td>{'Add-Ons': 'NA', 'Body Shape ID': '333,424', ...</td>\n",
       "      <td>111       ,Baisacrafts</td>\n",
       "    </tr>\n",
       "  </tbody>\n",
       "</table>\n",
       "</div>"
      ],
      "text/plain": [
       "      brand_id   brand_name        p_id  \\\n",
       "6428       516      Live Ok  19142060.0   \n",
       "7724       544        Mango  16124786.0   \n",
       "12774      111  Baisacrafts  19145038.0   \n",
       "\n",
       "                                                    name   price colour  \\\n",
       "6428   LIVE OK Women Boyfriend Fit High-Rise Stretcha...  1999.0    NaN   \n",
       "7724                       MANGO Women Hooded Sweatshirt  2390.0    NaN   \n",
       "12774  Baisacrafts Women Pure Cotton Kurta with Trous...  5450.0    NaN   \n",
       "\n",
       "       ratingCount  avg_rating  \\\n",
       "6428           NaN         NaN   \n",
       "7724           NaN         NaN   \n",
       "12774          NaN         NaN   \n",
       "\n",
       "                                             description  \\\n",
       "6428   <ul> <li> Dark shade,  no fade jeans </li> <li...   \n",
       "7724   Solid sweatshirt has a hooded, short drop shou...   \n",
       "12774  Solid Kurta with Trousers with dupatta<br><br>...   \n",
       "\n",
       "                                            p_attributes  \\\n",
       "6428   {'Add-Ons': 'NA', 'Body or Garment Size': 'To-...   \n",
       "7724   {'Body Shape ID': '443,424,324', 'Body or Garm...   \n",
       "12774  {'Add-Ons': 'NA', 'Body Shape ID': '333,424', ...   \n",
       "\n",
       "                     NewBrand  \n",
       "6428       516       ,LIVE OK  \n",
       "7724         544       ,MANGO  \n",
       "12774  111       ,Baisacrafts  "
      ]
     },
     "execution_count": 345,
     "metadata": {},
     "output_type": "execute_result"
    }
   ],
   "source": [
    "#Check the missing values under price\n",
    "data[pd.isna(data[\"colour\"])]"
   ]
  },
  {
   "cell_type": "code",
   "execution_count": 346,
   "id": "15151c2d",
   "metadata": {},
   "outputs": [
    {
     "data": {
      "text/plain": [
       "0    Black\n",
       "Name: colour, dtype: object"
      ]
     },
     "execution_count": 346,
     "metadata": {},
     "output_type": "execute_result"
    }
   ],
   "source": [
    "#Mode of the colour column\n",
    "data.loc[:,\"colour\"].mode()"
   ]
  },
  {
   "cell_type": "code",
   "execution_count": 347,
   "id": "348d31dd",
   "metadata": {},
   "outputs": [],
   "source": [
    "#Considering the 49 different unique colour types and large size of the dataset, the mode (Black)\n",
    "#of Colour will be used to fill the missing values. The data type will be changed from object to category.\n",
    "\n",
    "#change data type to category\n",
    "data.colour = data.colour.astype(\"category\")\n",
    "\n",
    "# Use the mode to fill missing colour column\n",
    "data['colour'].fillna(data['colour'].mode()[0], inplace=True)"
   ]
  },
  {
   "cell_type": "code",
   "execution_count": 348,
   "id": "1264e6c6",
   "metadata": {},
   "outputs": [
    {
     "data": {
      "text/html": [
       "<div>\n",
       "<style scoped>\n",
       "    .dataframe tbody tr th:only-of-type {\n",
       "        vertical-align: middle;\n",
       "    }\n",
       "\n",
       "    .dataframe tbody tr th {\n",
       "        vertical-align: top;\n",
       "    }\n",
       "\n",
       "    .dataframe thead th {\n",
       "        text-align: right;\n",
       "    }\n",
       "</style>\n",
       "<table border=\"1\" class=\"dataframe\">\n",
       "  <thead>\n",
       "    <tr style=\"text-align: right;\">\n",
       "      <th></th>\n",
       "      <th>brand_id</th>\n",
       "      <th>brand_name</th>\n",
       "      <th>p_id</th>\n",
       "      <th>name</th>\n",
       "      <th>price</th>\n",
       "      <th>colour</th>\n",
       "      <th>ratingCount</th>\n",
       "      <th>avg_rating</th>\n",
       "      <th>description</th>\n",
       "      <th>p_attributes</th>\n",
       "      <th>NewBrand</th>\n",
       "    </tr>\n",
       "  </thead>\n",
       "  <tbody>\n",
       "  </tbody>\n",
       "</table>\n",
       "</div>"
      ],
      "text/plain": [
       "Empty DataFrame\n",
       "Columns: [brand_id, brand_name, p_id, name, price, colour, ratingCount, avg_rating, description, p_attributes, NewBrand]\n",
       "Index: []"
      ]
     },
     "execution_count": 348,
     "metadata": {},
     "output_type": "execute_result"
    }
   ],
   "source": [
    "#Check cleaned data for column \"colour\"\n",
    "data[pd.isna(data[\"colour\"])]"
   ]
  },
  {
   "cell_type": "code",
   "execution_count": 349,
   "id": "c5ddb2b1",
   "metadata": {},
   "outputs": [
    {
     "data": {
      "text/html": [
       "<div>\n",
       "<style scoped>\n",
       "    .dataframe tbody tr th:only-of-type {\n",
       "        vertical-align: middle;\n",
       "    }\n",
       "\n",
       "    .dataframe tbody tr th {\n",
       "        vertical-align: top;\n",
       "    }\n",
       "\n",
       "    .dataframe thead th {\n",
       "        text-align: right;\n",
       "    }\n",
       "</style>\n",
       "<table border=\"1\" class=\"dataframe\">\n",
       "  <thead>\n",
       "    <tr style=\"text-align: right;\">\n",
       "      <th></th>\n",
       "      <th>brand_id</th>\n",
       "      <th>brand_name</th>\n",
       "      <th>p_id</th>\n",
       "      <th>name</th>\n",
       "      <th>price</th>\n",
       "      <th>colour</th>\n",
       "      <th>ratingCount</th>\n",
       "      <th>avg_rating</th>\n",
       "      <th>description</th>\n",
       "      <th>p_attributes</th>\n",
       "      <th>NewBrand</th>\n",
       "    </tr>\n",
       "  </thead>\n",
       "  <tbody>\n",
       "    <tr>\n",
       "      <th>0</th>\n",
       "      <td>555</td>\n",
       "      <td>Max</td>\n",
       "      <td>19000284.0</td>\n",
       "      <td>max Peach-Coloured Print Top</td>\n",
       "      <td>169.0</td>\n",
       "      <td>Peach</td>\n",
       "      <td>NaN</td>\n",
       "      <td>NaN</td>\n",
       "      <td>&lt;ul&gt;&lt;li&gt;Peach-coloured regular top&lt;/li&gt;&lt;li&gt;Gra...</td>\n",
       "      <td>{'Body or Garment Size': 'Garment Measurements...</td>\n",
       "      <td>555       ,max</td>\n",
       "    </tr>\n",
       "    <tr>\n",
       "      <th>3</th>\n",
       "      <td>438</td>\n",
       "      <td>Juniors By Lifestyle</td>\n",
       "      <td>18988158.0</td>\n",
       "      <td>Juniors by Lifestyle Kids-Girls White Pure Cot...</td>\n",
       "      <td>249.0</td>\n",
       "      <td>White</td>\n",
       "      <td>NaN</td>\n",
       "      <td>NaN</td>\n",
       "      <td>&lt;ul&gt; &lt;li&gt; White regular top &lt;/li&gt; &lt;li&gt; Abstrac...</td>\n",
       "      <td>{'Body or Garment Size': 'Garment Measurements...</td>\n",
       "      <td>438       ,Juniors by Lifestyle</td>\n",
       "    </tr>\n",
       "    <tr>\n",
       "      <th>12</th>\n",
       "      <td>237</td>\n",
       "      <td>Dreamz By Pantaloons</td>\n",
       "      <td>19168716.0</td>\n",
       "      <td>Dreamz by Pantaloons Women Round Neck Short Sl...</td>\n",
       "      <td>299.0</td>\n",
       "      <td>Black</td>\n",
       "      <td>NaN</td>\n",
       "      <td>NaN</td>\n",
       "      <td>&lt;ul&gt; &lt;li&gt; Black regular top &lt;/li&gt; &lt;li&gt; Solid &lt;...</td>\n",
       "      <td>{'Body Shape ID': '443,333,424', 'Body or Garm...</td>\n",
       "      <td>237       ,Dreamz by Pantaloons</td>\n",
       "    </tr>\n",
       "    <tr>\n",
       "      <th>13</th>\n",
       "      <td>237</td>\n",
       "      <td>Dreamz By Pantaloons</td>\n",
       "      <td>19168722.0</td>\n",
       "      <td>Dreamz by Pantaloons Women Round Neck Teal Top</td>\n",
       "      <td>299.0</td>\n",
       "      <td>Teal</td>\n",
       "      <td>NaN</td>\n",
       "      <td>NaN</td>\n",
       "      <td>&lt;ul&gt; &lt;li&gt; Teal regular top &lt;/li&gt; &lt;li&gt; Solid &lt;/...</td>\n",
       "      <td>{'Body Shape ID': '443,333,424', 'Body or Garm...</td>\n",
       "      <td>237       ,Dreamz by Pantaloons</td>\n",
       "    </tr>\n",
       "    <tr>\n",
       "      <th>15</th>\n",
       "      <td>555</td>\n",
       "      <td>Max</td>\n",
       "      <td>19000300.0</td>\n",
       "      <td>max Girls White Printed Round Neck Top</td>\n",
       "      <td>329.0</td>\n",
       "      <td>White</td>\n",
       "      <td>NaN</td>\n",
       "      <td>NaN</td>\n",
       "      <td>&lt;ul&gt; &lt;li&gt; White regular top &lt;/li&gt; &lt;li&gt; Convers...</td>\n",
       "      <td>{'Body or Garment Size': 'Garment Measurements...</td>\n",
       "      <td>555       ,max</td>\n",
       "    </tr>\n",
       "    <tr>\n",
       "      <th>...</th>\n",
       "      <td>...</td>\n",
       "      <td>...</td>\n",
       "      <td>...</td>\n",
       "      <td>...</td>\n",
       "      <td>...</td>\n",
       "      <td>...</td>\n",
       "      <td>...</td>\n",
       "      <td>...</td>\n",
       "      <td>...</td>\n",
       "      <td>...</td>\n",
       "      <td>...</td>\n",
       "    </tr>\n",
       "    <tr>\n",
       "      <th>14298</th>\n",
       "      <td>553</td>\n",
       "      <td>Masaba</td>\n",
       "      <td>16920512.0</td>\n",
       "      <td>Masaba Women White &amp; Rose Gold Floral Foil Pri...</td>\n",
       "      <td>30000.0</td>\n",
       "      <td>White</td>\n",
       "      <td>NaN</td>\n",
       "      <td>NaN</td>\n",
       "      <td>This co-ords set consists of a top, trouser, a...</td>\n",
       "      <td>{'Add-Ons': 'NA', 'Better Cotton Initiative': ...</td>\n",
       "      <td>553       ,Masaba</td>\n",
       "    </tr>\n",
       "    <tr>\n",
       "      <th>14299</th>\n",
       "      <td>553</td>\n",
       "      <td>Masaba</td>\n",
       "      <td>16920516.0</td>\n",
       "      <td>Masaba Woman Black Tulip Cape Set</td>\n",
       "      <td>30000.0</td>\n",
       "      <td>Black</td>\n",
       "      <td>NaN</td>\n",
       "      <td>NaN</td>\n",
       "      <td>V-neckline&amp;nbsp;&lt;br&gt;Full sleeves&amp;nbsp;&lt;br&gt;Embr...</td>\n",
       "      <td>{'Add-Ons': 'NA', 'Better Cotton Initiative': ...</td>\n",
       "      <td>553       ,Masaba</td>\n",
       "    </tr>\n",
       "    <tr>\n",
       "      <th>14300</th>\n",
       "      <td>734</td>\n",
       "      <td>Readiprint Fashions</td>\n",
       "      <td>18839148.0</td>\n",
       "      <td>Readiprint Fashions Brown Embroidered Thread W...</td>\n",
       "      <td>30000.0</td>\n",
       "      <td>Brown</td>\n",
       "      <td>NaN</td>\n",
       "      <td>NaN</td>\n",
       "      <td>Brown embroidered lehenga choli with dupatta, ...</td>\n",
       "      <td>{'Blouse Closure': 'NA', 'Blouse Fabric': 'Net...</td>\n",
       "      <td>734       ,Readiprint Fashions</td>\n",
       "    </tr>\n",
       "    <tr>\n",
       "      <th>14302</th>\n",
       "      <td>734</td>\n",
       "      <td>Readiprint Fashions</td>\n",
       "      <td>18536426.0</td>\n",
       "      <td>Readiprint Fashions Blue &amp; Golden Embroidered ...</td>\n",
       "      <td>30500.0</td>\n",
       "      <td>Blue</td>\n",
       "      <td>NaN</td>\n",
       "      <td>NaN</td>\n",
       "      <td>Blue and golden embroidered lehenga choli with...</td>\n",
       "      <td>{'Blouse Closure': 'NA', 'Blouse Fabric': 'Art...</td>\n",
       "      <td>734       ,Readiprint Fashions</td>\n",
       "    </tr>\n",
       "    <tr>\n",
       "      <th>14304</th>\n",
       "      <td>590</td>\n",
       "      <td>Moksha Designs</td>\n",
       "      <td>10898748.0</td>\n",
       "      <td>MOKSHA DESIGNS Maroon &amp; Pink Embroidered Ready...</td>\n",
       "      <td>47999.0</td>\n",
       "      <td>Maroon</td>\n",
       "      <td>NaN</td>\n",
       "      <td>NaN</td>\n",
       "      <td>Maroon lehenga choli&lt;br&gt;Maroon blouse, three-q...</td>\n",
       "      <td>{'Blouse Closure': 'NA', 'Blouse Fabric': 'Vel...</td>\n",
       "      <td>590       ,MOKSHA DESIGNS</td>\n",
       "    </tr>\n",
       "  </tbody>\n",
       "</table>\n",
       "<p>7727 rows × 11 columns</p>\n",
       "</div>"
      ],
      "text/plain": [
       "      brand_id            brand_name        p_id  \\\n",
       "0          555                   Max  19000284.0   \n",
       "3          438  Juniors By Lifestyle  18988158.0   \n",
       "12         237  Dreamz By Pantaloons  19168716.0   \n",
       "13         237  Dreamz By Pantaloons  19168722.0   \n",
       "15         555                   Max  19000300.0   \n",
       "...        ...                   ...         ...   \n",
       "14298      553                Masaba  16920512.0   \n",
       "14299      553                Masaba  16920516.0   \n",
       "14300      734   Readiprint Fashions  18839148.0   \n",
       "14302      734   Readiprint Fashions  18536426.0   \n",
       "14304      590        Moksha Designs  10898748.0   \n",
       "\n",
       "                                                    name    price  colour  \\\n",
       "0                           max Peach-Coloured Print Top    169.0   Peach   \n",
       "3      Juniors by Lifestyle Kids-Girls White Pure Cot...    249.0   White   \n",
       "12     Dreamz by Pantaloons Women Round Neck Short Sl...    299.0   Black   \n",
       "13        Dreamz by Pantaloons Women Round Neck Teal Top    299.0    Teal   \n",
       "15                max Girls White Printed Round Neck Top    329.0   White   \n",
       "...                                                  ...      ...     ...   \n",
       "14298  Masaba Women White & Rose Gold Floral Foil Pri...  30000.0   White   \n",
       "14299                  Masaba Woman Black Tulip Cape Set  30000.0   Black   \n",
       "14300  Readiprint Fashions Brown Embroidered Thread W...  30000.0   Brown   \n",
       "14302  Readiprint Fashions Blue & Golden Embroidered ...  30500.0    Blue   \n",
       "14304  MOKSHA DESIGNS Maroon & Pink Embroidered Ready...  47999.0  Maroon   \n",
       "\n",
       "       ratingCount  avg_rating  \\\n",
       "0              NaN         NaN   \n",
       "3              NaN         NaN   \n",
       "12             NaN         NaN   \n",
       "13             NaN         NaN   \n",
       "15             NaN         NaN   \n",
       "...            ...         ...   \n",
       "14298          NaN         NaN   \n",
       "14299          NaN         NaN   \n",
       "14300          NaN         NaN   \n",
       "14302          NaN         NaN   \n",
       "14304          NaN         NaN   \n",
       "\n",
       "                                             description  \\\n",
       "0      <ul><li>Peach-coloured regular top</li><li>Gra...   \n",
       "3      <ul> <li> White regular top </li> <li> Abstrac...   \n",
       "12     <ul> <li> Black regular top </li> <li> Solid <...   \n",
       "13     <ul> <li> Teal regular top </li> <li> Solid </...   \n",
       "15     <ul> <li> White regular top </li> <li> Convers...   \n",
       "...                                                  ...   \n",
       "14298  This co-ords set consists of a top, trouser, a...   \n",
       "14299  V-neckline&nbsp;<br>Full sleeves&nbsp;<br>Embr...   \n",
       "14300  Brown embroidered lehenga choli with dupatta, ...   \n",
       "14302  Blue and golden embroidered lehenga choli with...   \n",
       "14304  Maroon lehenga choli<br>Maroon blouse, three-q...   \n",
       "\n",
       "                                            p_attributes  \\\n",
       "0      {'Body or Garment Size': 'Garment Measurements...   \n",
       "3      {'Body or Garment Size': 'Garment Measurements...   \n",
       "12     {'Body Shape ID': '443,333,424', 'Body or Garm...   \n",
       "13     {'Body Shape ID': '443,333,424', 'Body or Garm...   \n",
       "15     {'Body or Garment Size': 'Garment Measurements...   \n",
       "...                                                  ...   \n",
       "14298  {'Add-Ons': 'NA', 'Better Cotton Initiative': ...   \n",
       "14299  {'Add-Ons': 'NA', 'Better Cotton Initiative': ...   \n",
       "14300  {'Blouse Closure': 'NA', 'Blouse Fabric': 'Net...   \n",
       "14302  {'Blouse Closure': 'NA', 'Blouse Fabric': 'Art...   \n",
       "14304  {'Blouse Closure': 'NA', 'Blouse Fabric': 'Vel...   \n",
       "\n",
       "                              NewBrand  \n",
       "0                       555       ,max  \n",
       "3      438       ,Juniors by Lifestyle  \n",
       "12     237       ,Dreamz by Pantaloons  \n",
       "13     237       ,Dreamz by Pantaloons  \n",
       "15                      555       ,max  \n",
       "...                                ...  \n",
       "14298                553       ,Masaba  \n",
       "14299                553       ,Masaba  \n",
       "14300   734       ,Readiprint Fashions  \n",
       "14302   734       ,Readiprint Fashions  \n",
       "14304        590       ,MOKSHA DESIGNS  \n",
       "\n",
       "[7727 rows x 11 columns]"
      ]
     },
     "execution_count": 349,
     "metadata": {},
     "output_type": "execute_result"
    }
   ],
   "source": [
    "#Check the missing values under ratingCount\n",
    "data[pd.isna(data[\"ratingCount\"])]"
   ]
  },
  {
   "cell_type": "code",
   "execution_count": 350,
   "id": "a1b26093",
   "metadata": {},
   "outputs": [
    {
     "data": {
      "text/plain": [
       "0    5.0\n",
       "Name: ratingCount, dtype: float64"
      ]
     },
     "execution_count": 350,
     "metadata": {},
     "output_type": "execute_result"
    }
   ],
   "source": [
    "#Mode of the ratingCount column\n",
    "data.loc[:,\"ratingCount\"].mode()"
   ]
  },
  {
   "cell_type": "code",
   "execution_count": 351,
   "id": "802b4716",
   "metadata": {},
   "outputs": [],
   "source": [
    "#Considering the 829 different unique ratingCount types and large size of the dataset, the mode (5.0)\n",
    "#of ratingCount will be used to fill the missing values.\n",
    "\n",
    "\n",
    "# Use the mode to fill missing ratingCount column\n",
    "data['ratingCount'].fillna(data['ratingCount'].mode()[0], inplace=True)"
   ]
  },
  {
   "cell_type": "code",
   "execution_count": 352,
   "id": "af646bd8",
   "metadata": {},
   "outputs": [
    {
     "data": {
      "text/html": [
       "<div>\n",
       "<style scoped>\n",
       "    .dataframe tbody tr th:only-of-type {\n",
       "        vertical-align: middle;\n",
       "    }\n",
       "\n",
       "    .dataframe tbody tr th {\n",
       "        vertical-align: top;\n",
       "    }\n",
       "\n",
       "    .dataframe thead th {\n",
       "        text-align: right;\n",
       "    }\n",
       "</style>\n",
       "<table border=\"1\" class=\"dataframe\">\n",
       "  <thead>\n",
       "    <tr style=\"text-align: right;\">\n",
       "      <th></th>\n",
       "      <th>brand_id</th>\n",
       "      <th>brand_name</th>\n",
       "      <th>p_id</th>\n",
       "      <th>name</th>\n",
       "      <th>price</th>\n",
       "      <th>colour</th>\n",
       "      <th>ratingCount</th>\n",
       "      <th>avg_rating</th>\n",
       "      <th>description</th>\n",
       "      <th>p_attributes</th>\n",
       "      <th>NewBrand</th>\n",
       "    </tr>\n",
       "  </thead>\n",
       "  <tbody>\n",
       "  </tbody>\n",
       "</table>\n",
       "</div>"
      ],
      "text/plain": [
       "Empty DataFrame\n",
       "Columns: [brand_id, brand_name, p_id, name, price, colour, ratingCount, avg_rating, description, p_attributes, NewBrand]\n",
       "Index: []"
      ]
     },
     "execution_count": 352,
     "metadata": {},
     "output_type": "execute_result"
    }
   ],
   "source": [
    "#Check cleaned data for column \"ratingCount\"\n",
    "data[pd.isna(data[\"ratingCount\"])]"
   ]
  },
  {
   "cell_type": "code",
   "execution_count": 353,
   "id": "1012ab68",
   "metadata": {},
   "outputs": [
    {
     "data": {
      "text/html": [
       "<div>\n",
       "<style scoped>\n",
       "    .dataframe tbody tr th:only-of-type {\n",
       "        vertical-align: middle;\n",
       "    }\n",
       "\n",
       "    .dataframe tbody tr th {\n",
       "        vertical-align: top;\n",
       "    }\n",
       "\n",
       "    .dataframe thead th {\n",
       "        text-align: right;\n",
       "    }\n",
       "</style>\n",
       "<table border=\"1\" class=\"dataframe\">\n",
       "  <thead>\n",
       "    <tr style=\"text-align: right;\">\n",
       "      <th></th>\n",
       "      <th>brand_id</th>\n",
       "      <th>brand_name</th>\n",
       "      <th>p_id</th>\n",
       "      <th>name</th>\n",
       "      <th>price</th>\n",
       "      <th>colour</th>\n",
       "      <th>ratingCount</th>\n",
       "      <th>avg_rating</th>\n",
       "      <th>description</th>\n",
       "      <th>p_attributes</th>\n",
       "      <th>NewBrand</th>\n",
       "    </tr>\n",
       "  </thead>\n",
       "  <tbody>\n",
       "    <tr>\n",
       "      <th>0</th>\n",
       "      <td>555</td>\n",
       "      <td>Max</td>\n",
       "      <td>19000284.0</td>\n",
       "      <td>max Peach-Coloured Print Top</td>\n",
       "      <td>169.0</td>\n",
       "      <td>Peach</td>\n",
       "      <td>5.0</td>\n",
       "      <td>NaN</td>\n",
       "      <td>&lt;ul&gt;&lt;li&gt;Peach-coloured regular top&lt;/li&gt;&lt;li&gt;Gra...</td>\n",
       "      <td>{'Body or Garment Size': 'Garment Measurements...</td>\n",
       "      <td>555       ,max</td>\n",
       "    </tr>\n",
       "    <tr>\n",
       "      <th>3</th>\n",
       "      <td>438</td>\n",
       "      <td>Juniors By Lifestyle</td>\n",
       "      <td>18988158.0</td>\n",
       "      <td>Juniors by Lifestyle Kids-Girls White Pure Cot...</td>\n",
       "      <td>249.0</td>\n",
       "      <td>White</td>\n",
       "      <td>5.0</td>\n",
       "      <td>NaN</td>\n",
       "      <td>&lt;ul&gt; &lt;li&gt; White regular top &lt;/li&gt; &lt;li&gt; Abstrac...</td>\n",
       "      <td>{'Body or Garment Size': 'Garment Measurements...</td>\n",
       "      <td>438       ,Juniors by Lifestyle</td>\n",
       "    </tr>\n",
       "    <tr>\n",
       "      <th>12</th>\n",
       "      <td>237</td>\n",
       "      <td>Dreamz By Pantaloons</td>\n",
       "      <td>19168716.0</td>\n",
       "      <td>Dreamz by Pantaloons Women Round Neck Short Sl...</td>\n",
       "      <td>299.0</td>\n",
       "      <td>Black</td>\n",
       "      <td>5.0</td>\n",
       "      <td>NaN</td>\n",
       "      <td>&lt;ul&gt; &lt;li&gt; Black regular top &lt;/li&gt; &lt;li&gt; Solid &lt;...</td>\n",
       "      <td>{'Body Shape ID': '443,333,424', 'Body or Garm...</td>\n",
       "      <td>237       ,Dreamz by Pantaloons</td>\n",
       "    </tr>\n",
       "    <tr>\n",
       "      <th>13</th>\n",
       "      <td>237</td>\n",
       "      <td>Dreamz By Pantaloons</td>\n",
       "      <td>19168722.0</td>\n",
       "      <td>Dreamz by Pantaloons Women Round Neck Teal Top</td>\n",
       "      <td>299.0</td>\n",
       "      <td>Teal</td>\n",
       "      <td>5.0</td>\n",
       "      <td>NaN</td>\n",
       "      <td>&lt;ul&gt; &lt;li&gt; Teal regular top &lt;/li&gt; &lt;li&gt; Solid &lt;/...</td>\n",
       "      <td>{'Body Shape ID': '443,333,424', 'Body or Garm...</td>\n",
       "      <td>237       ,Dreamz by Pantaloons</td>\n",
       "    </tr>\n",
       "    <tr>\n",
       "      <th>15</th>\n",
       "      <td>555</td>\n",
       "      <td>Max</td>\n",
       "      <td>19000300.0</td>\n",
       "      <td>max Girls White Printed Round Neck Top</td>\n",
       "      <td>329.0</td>\n",
       "      <td>White</td>\n",
       "      <td>5.0</td>\n",
       "      <td>NaN</td>\n",
       "      <td>&lt;ul&gt; &lt;li&gt; White regular top &lt;/li&gt; &lt;li&gt; Convers...</td>\n",
       "      <td>{'Body or Garment Size': 'Garment Measurements...</td>\n",
       "      <td>555       ,max</td>\n",
       "    </tr>\n",
       "    <tr>\n",
       "      <th>...</th>\n",
       "      <td>...</td>\n",
       "      <td>...</td>\n",
       "      <td>...</td>\n",
       "      <td>...</td>\n",
       "      <td>...</td>\n",
       "      <td>...</td>\n",
       "      <td>...</td>\n",
       "      <td>...</td>\n",
       "      <td>...</td>\n",
       "      <td>...</td>\n",
       "      <td>...</td>\n",
       "    </tr>\n",
       "    <tr>\n",
       "      <th>14298</th>\n",
       "      <td>553</td>\n",
       "      <td>Masaba</td>\n",
       "      <td>16920512.0</td>\n",
       "      <td>Masaba Women White &amp; Rose Gold Floral Foil Pri...</td>\n",
       "      <td>30000.0</td>\n",
       "      <td>White</td>\n",
       "      <td>5.0</td>\n",
       "      <td>NaN</td>\n",
       "      <td>This co-ords set consists of a top, trouser, a...</td>\n",
       "      <td>{'Add-Ons': 'NA', 'Better Cotton Initiative': ...</td>\n",
       "      <td>553       ,Masaba</td>\n",
       "    </tr>\n",
       "    <tr>\n",
       "      <th>14299</th>\n",
       "      <td>553</td>\n",
       "      <td>Masaba</td>\n",
       "      <td>16920516.0</td>\n",
       "      <td>Masaba Woman Black Tulip Cape Set</td>\n",
       "      <td>30000.0</td>\n",
       "      <td>Black</td>\n",
       "      <td>5.0</td>\n",
       "      <td>NaN</td>\n",
       "      <td>V-neckline&amp;nbsp;&lt;br&gt;Full sleeves&amp;nbsp;&lt;br&gt;Embr...</td>\n",
       "      <td>{'Add-Ons': 'NA', 'Better Cotton Initiative': ...</td>\n",
       "      <td>553       ,Masaba</td>\n",
       "    </tr>\n",
       "    <tr>\n",
       "      <th>14300</th>\n",
       "      <td>734</td>\n",
       "      <td>Readiprint Fashions</td>\n",
       "      <td>18839148.0</td>\n",
       "      <td>Readiprint Fashions Brown Embroidered Thread W...</td>\n",
       "      <td>30000.0</td>\n",
       "      <td>Brown</td>\n",
       "      <td>5.0</td>\n",
       "      <td>NaN</td>\n",
       "      <td>Brown embroidered lehenga choli with dupatta, ...</td>\n",
       "      <td>{'Blouse Closure': 'NA', 'Blouse Fabric': 'Net...</td>\n",
       "      <td>734       ,Readiprint Fashions</td>\n",
       "    </tr>\n",
       "    <tr>\n",
       "      <th>14302</th>\n",
       "      <td>734</td>\n",
       "      <td>Readiprint Fashions</td>\n",
       "      <td>18536426.0</td>\n",
       "      <td>Readiprint Fashions Blue &amp; Golden Embroidered ...</td>\n",
       "      <td>30500.0</td>\n",
       "      <td>Blue</td>\n",
       "      <td>5.0</td>\n",
       "      <td>NaN</td>\n",
       "      <td>Blue and golden embroidered lehenga choli with...</td>\n",
       "      <td>{'Blouse Closure': 'NA', 'Blouse Fabric': 'Art...</td>\n",
       "      <td>734       ,Readiprint Fashions</td>\n",
       "    </tr>\n",
       "    <tr>\n",
       "      <th>14304</th>\n",
       "      <td>590</td>\n",
       "      <td>Moksha Designs</td>\n",
       "      <td>10898748.0</td>\n",
       "      <td>MOKSHA DESIGNS Maroon &amp; Pink Embroidered Ready...</td>\n",
       "      <td>47999.0</td>\n",
       "      <td>Maroon</td>\n",
       "      <td>5.0</td>\n",
       "      <td>NaN</td>\n",
       "      <td>Maroon lehenga choli&lt;br&gt;Maroon blouse, three-q...</td>\n",
       "      <td>{'Blouse Closure': 'NA', 'Blouse Fabric': 'Vel...</td>\n",
       "      <td>590       ,MOKSHA DESIGNS</td>\n",
       "    </tr>\n",
       "  </tbody>\n",
       "</table>\n",
       "<p>7727 rows × 11 columns</p>\n",
       "</div>"
      ],
      "text/plain": [
       "      brand_id            brand_name        p_id  \\\n",
       "0          555                   Max  19000284.0   \n",
       "3          438  Juniors By Lifestyle  18988158.0   \n",
       "12         237  Dreamz By Pantaloons  19168716.0   \n",
       "13         237  Dreamz By Pantaloons  19168722.0   \n",
       "15         555                   Max  19000300.0   \n",
       "...        ...                   ...         ...   \n",
       "14298      553                Masaba  16920512.0   \n",
       "14299      553                Masaba  16920516.0   \n",
       "14300      734   Readiprint Fashions  18839148.0   \n",
       "14302      734   Readiprint Fashions  18536426.0   \n",
       "14304      590        Moksha Designs  10898748.0   \n",
       "\n",
       "                                                    name    price  colour  \\\n",
       "0                           max Peach-Coloured Print Top    169.0   Peach   \n",
       "3      Juniors by Lifestyle Kids-Girls White Pure Cot...    249.0   White   \n",
       "12     Dreamz by Pantaloons Women Round Neck Short Sl...    299.0   Black   \n",
       "13        Dreamz by Pantaloons Women Round Neck Teal Top    299.0    Teal   \n",
       "15                max Girls White Printed Round Neck Top    329.0   White   \n",
       "...                                                  ...      ...     ...   \n",
       "14298  Masaba Women White & Rose Gold Floral Foil Pri...  30000.0   White   \n",
       "14299                  Masaba Woman Black Tulip Cape Set  30000.0   Black   \n",
       "14300  Readiprint Fashions Brown Embroidered Thread W...  30000.0   Brown   \n",
       "14302  Readiprint Fashions Blue & Golden Embroidered ...  30500.0    Blue   \n",
       "14304  MOKSHA DESIGNS Maroon & Pink Embroidered Ready...  47999.0  Maroon   \n",
       "\n",
       "       ratingCount  avg_rating  \\\n",
       "0              5.0         NaN   \n",
       "3              5.0         NaN   \n",
       "12             5.0         NaN   \n",
       "13             5.0         NaN   \n",
       "15             5.0         NaN   \n",
       "...            ...         ...   \n",
       "14298          5.0         NaN   \n",
       "14299          5.0         NaN   \n",
       "14300          5.0         NaN   \n",
       "14302          5.0         NaN   \n",
       "14304          5.0         NaN   \n",
       "\n",
       "                                             description  \\\n",
       "0      <ul><li>Peach-coloured regular top</li><li>Gra...   \n",
       "3      <ul> <li> White regular top </li> <li> Abstrac...   \n",
       "12     <ul> <li> Black regular top </li> <li> Solid <...   \n",
       "13     <ul> <li> Teal regular top </li> <li> Solid </...   \n",
       "15     <ul> <li> White regular top </li> <li> Convers...   \n",
       "...                                                  ...   \n",
       "14298  This co-ords set consists of a top, trouser, a...   \n",
       "14299  V-neckline&nbsp;<br>Full sleeves&nbsp;<br>Embr...   \n",
       "14300  Brown embroidered lehenga choli with dupatta, ...   \n",
       "14302  Blue and golden embroidered lehenga choli with...   \n",
       "14304  Maroon lehenga choli<br>Maroon blouse, three-q...   \n",
       "\n",
       "                                            p_attributes  \\\n",
       "0      {'Body or Garment Size': 'Garment Measurements...   \n",
       "3      {'Body or Garment Size': 'Garment Measurements...   \n",
       "12     {'Body Shape ID': '443,333,424', 'Body or Garm...   \n",
       "13     {'Body Shape ID': '443,333,424', 'Body or Garm...   \n",
       "15     {'Body or Garment Size': 'Garment Measurements...   \n",
       "...                                                  ...   \n",
       "14298  {'Add-Ons': 'NA', 'Better Cotton Initiative': ...   \n",
       "14299  {'Add-Ons': 'NA', 'Better Cotton Initiative': ...   \n",
       "14300  {'Blouse Closure': 'NA', 'Blouse Fabric': 'Net...   \n",
       "14302  {'Blouse Closure': 'NA', 'Blouse Fabric': 'Art...   \n",
       "14304  {'Blouse Closure': 'NA', 'Blouse Fabric': 'Vel...   \n",
       "\n",
       "                              NewBrand  \n",
       "0                       555       ,max  \n",
       "3      438       ,Juniors by Lifestyle  \n",
       "12     237       ,Dreamz by Pantaloons  \n",
       "13     237       ,Dreamz by Pantaloons  \n",
       "15                      555       ,max  \n",
       "...                                ...  \n",
       "14298                553       ,Masaba  \n",
       "14299                553       ,Masaba  \n",
       "14300   734       ,Readiprint Fashions  \n",
       "14302   734       ,Readiprint Fashions  \n",
       "14304        590       ,MOKSHA DESIGNS  \n",
       "\n",
       "[7727 rows x 11 columns]"
      ]
     },
     "execution_count": 353,
     "metadata": {},
     "output_type": "execute_result"
    }
   ],
   "source": [
    "#Check the missing values under avg_rating\n",
    "data[pd.isna(data[\"avg_rating\"])]"
   ]
  },
  {
   "cell_type": "code",
   "execution_count": 354,
   "id": "2ebe0e5a",
   "metadata": {},
   "outputs": [
    {
     "data": {
      "text/plain": [
       "0    4.0\n",
       "Name: avg_rating, dtype: float64"
      ]
     },
     "execution_count": 354,
     "metadata": {},
     "output_type": "execute_result"
    }
   ],
   "source": [
    "#Mode of the ratingCount column\n",
    "data.loc[:,\"avg_rating\"].mode()"
   ]
  },
  {
   "cell_type": "code",
   "execution_count": 355,
   "id": "4c12cf3a",
   "metadata": {},
   "outputs": [],
   "source": [
    "#Considering the 2368 different unique avg_rating types and large size of the dataset, the mode (4.0)\n",
    "#of avg_rating will be used to fill the missing values. \n",
    "\n",
    "# Use the mode to fill missing avg_rating column\n",
    "data['avg_rating'].fillna(data['avg_rating'].mode()[0], inplace=True)"
   ]
  },
  {
   "cell_type": "code",
   "execution_count": 356,
   "id": "cc0c1fc9",
   "metadata": {},
   "outputs": [
    {
     "data": {
      "text/html": [
       "<div>\n",
       "<style scoped>\n",
       "    .dataframe tbody tr th:only-of-type {\n",
       "        vertical-align: middle;\n",
       "    }\n",
       "\n",
       "    .dataframe tbody tr th {\n",
       "        vertical-align: top;\n",
       "    }\n",
       "\n",
       "    .dataframe thead th {\n",
       "        text-align: right;\n",
       "    }\n",
       "</style>\n",
       "<table border=\"1\" class=\"dataframe\">\n",
       "  <thead>\n",
       "    <tr style=\"text-align: right;\">\n",
       "      <th></th>\n",
       "      <th>brand_id</th>\n",
       "      <th>brand_name</th>\n",
       "      <th>p_id</th>\n",
       "      <th>name</th>\n",
       "      <th>price</th>\n",
       "      <th>colour</th>\n",
       "      <th>ratingCount</th>\n",
       "      <th>avg_rating</th>\n",
       "      <th>description</th>\n",
       "      <th>p_attributes</th>\n",
       "      <th>NewBrand</th>\n",
       "    </tr>\n",
       "  </thead>\n",
       "  <tbody>\n",
       "  </tbody>\n",
       "</table>\n",
       "</div>"
      ],
      "text/plain": [
       "Empty DataFrame\n",
       "Columns: [brand_id, brand_name, p_id, name, price, colour, ratingCount, avg_rating, description, p_attributes, NewBrand]\n",
       "Index: []"
      ]
     },
     "execution_count": 356,
     "metadata": {},
     "output_type": "execute_result"
    }
   ],
   "source": [
    "#Check cleaned data for column \"avg_rating\"\n",
    "data[pd.isna(data[\"avg_rating\"])]"
   ]
  },
  {
   "cell_type": "code",
   "execution_count": 357,
   "id": "c99d0e65",
   "metadata": {},
   "outputs": [
    {
     "name": "stdout",
     "output_type": "stream",
     "text": [
      "brand_id        0\n",
      "brand_name      0\n",
      "p_id            0\n",
      "name            0\n",
      "price           0\n",
      "colour          0\n",
      "ratingCount     0\n",
      "avg_rating      0\n",
      "description     0\n",
      "p_attributes    0\n",
      "NewBrand        0\n",
      "dtype: int64\n"
     ]
    }
   ],
   "source": [
    "print(data.isnull().sum())"
   ]
  },
  {
   "cell_type": "markdown",
   "id": "0b36530d",
   "metadata": {},
   "source": [
    "- There are no missing values in the dataset again"
   ]
  },
  {
   "cell_type": "code",
   "execution_count": 358,
   "id": "075ced04",
   "metadata": {},
   "outputs": [
    {
     "data": {
      "text/plain": [
       "42"
      ]
     },
     "execution_count": 358,
     "metadata": {},
     "output_type": "execute_result"
    }
   ],
   "source": [
    "# Check for duplicates\n",
    "data.duplicated().sum()"
   ]
  },
  {
   "cell_type": "code",
   "execution_count": 359,
   "id": "ac6ffd76",
   "metadata": {},
   "outputs": [],
   "source": [
    "# Delete duplicates\n",
    "data = data.drop_duplicates()\n"
   ]
  },
  {
   "cell_type": "code",
   "execution_count": 360,
   "id": "2d765367",
   "metadata": {},
   "outputs": [
    {
     "data": {
      "text/plain": [
       "0"
      ]
     },
     "execution_count": 360,
     "metadata": {},
     "output_type": "execute_result"
    }
   ],
   "source": [
    "data.duplicated().sum()"
   ]
  },
  {
   "cell_type": "markdown",
   "id": "1087ec2d",
   "metadata": {},
   "source": [
    "#### Changing data types\n",
    "- The 'brand_id column has data type as strings, which need to be changed to int64"
   ]
  },
  {
   "cell_type": "code",
   "execution_count": 361,
   "id": "0a1b955a",
   "metadata": {},
   "outputs": [],
   "source": [
    "\n",
    "data = data.astype({\"brand_id\":\"int64\"})"
   ]
  },
  {
   "cell_type": "code",
   "execution_count": 362,
   "id": "faa05aaa",
   "metadata": {},
   "outputs": [
    {
     "name": "stdout",
     "output_type": "stream",
     "text": [
      "<class 'pandas.core.frame.DataFrame'>\n",
      "Int64Index: 14263 entries, 0 to 14304\n",
      "Data columns (total 11 columns):\n",
      " #   Column        Non-Null Count  Dtype   \n",
      "---  ------        --------------  -----   \n",
      " 0   brand_id      14263 non-null  int64   \n",
      " 1   brand_name    14263 non-null  object  \n",
      " 2   p_id          14263 non-null  float64 \n",
      " 3   name          14263 non-null  object  \n",
      " 4   price         14263 non-null  float64 \n",
      " 5   colour        14263 non-null  category\n",
      " 6   ratingCount   14263 non-null  float64 \n",
      " 7   avg_rating    14263 non-null  float64 \n",
      " 8   description   14263 non-null  object  \n",
      " 9   p_attributes  14263 non-null  object  \n",
      " 10  NewBrand      14263 non-null  object  \n",
      "dtypes: category(1), float64(4), int64(1), object(5)\n",
      "memory usage: 1.2+ MB\n"
     ]
    }
   ],
   "source": [
    "data.info()"
   ]
  },
  {
   "cell_type": "code",
   "execution_count": 363,
   "id": "687a7957",
   "metadata": {},
   "outputs": [
    {
     "data": {
      "text/plain": [
       "(14263, 11)"
      ]
     },
     "execution_count": 363,
     "metadata": {},
     "output_type": "execute_result"
    }
   ],
   "source": [
    "data.shape"
   ]
  },
  {
   "cell_type": "markdown",
   "id": "172372a9",
   "metadata": {},
   "source": [
    "#### Creation of Customer Count and Rating Columns\n",
    "\n",
    "The average rating is the process where something is being graded, for example, on a scale from one to five (usually as star). After collecting the sum of all rates, they are then divided by the number of times something was rated, that is, by the number of votes. \n",
    "\n",
    "In other words, the average rate is the final rate, which results in a quotient of the sum of all rates and the number of votes (entry data). We use these ratings to gain a better insight into the quality of the observed issue.\n",
    "\n",
    "Average Rating = Weighted Total (Rating Count)/Number of votes. \n",
    "\n",
    "To calculate number of votes, Number of Votes = Rating Count/Average Rating. Number of votes is also the same with Customer Count, since it sums up the total of customers that rated the industry.\n",
    "\n",
    "A Rating Column will also be created such that, when customers are rating a particular product/brand, it will return with good, average or bad."
   ]
  },
  {
   "cell_type": "code",
   "execution_count": 364,
   "id": "7ee43bc5",
   "metadata": {},
   "outputs": [],
   "source": [
    "#Calculating the total number of customers that rated/purchased each brand\n",
    "#create a column as Rating Count/Average Rating and round up to one decimal place\n",
    "\n",
    "data['CustomerCount'] = (data.ratingCount / data.avg_rating).apply(np.ceil)"
   ]
  },
  {
   "cell_type": "code",
   "execution_count": 365,
   "id": "dca1c922",
   "metadata": {
    "scrolled": true
   },
   "outputs": [
    {
     "data": {
      "text/html": [
       "<div>\n",
       "<style scoped>\n",
       "    .dataframe tbody tr th:only-of-type {\n",
       "        vertical-align: middle;\n",
       "    }\n",
       "\n",
       "    .dataframe tbody tr th {\n",
       "        vertical-align: top;\n",
       "    }\n",
       "\n",
       "    .dataframe thead th {\n",
       "        text-align: right;\n",
       "    }\n",
       "</style>\n",
       "<table border=\"1\" class=\"dataframe\">\n",
       "  <thead>\n",
       "    <tr style=\"text-align: right;\">\n",
       "      <th></th>\n",
       "      <th>brand_id</th>\n",
       "      <th>brand_name</th>\n",
       "      <th>p_id</th>\n",
       "      <th>name</th>\n",
       "      <th>price</th>\n",
       "      <th>colour</th>\n",
       "      <th>ratingCount</th>\n",
       "      <th>avg_rating</th>\n",
       "      <th>description</th>\n",
       "      <th>p_attributes</th>\n",
       "      <th>NewBrand</th>\n",
       "      <th>CustomerCount</th>\n",
       "    </tr>\n",
       "  </thead>\n",
       "  <tbody>\n",
       "    <tr>\n",
       "      <th>0</th>\n",
       "      <td>555</td>\n",
       "      <td>Max</td>\n",
       "      <td>19000284.0</td>\n",
       "      <td>max Peach-Coloured Print Top</td>\n",
       "      <td>169.0</td>\n",
       "      <td>Peach</td>\n",
       "      <td>5.0</td>\n",
       "      <td>4.000000</td>\n",
       "      <td>&lt;ul&gt;&lt;li&gt;Peach-coloured regular top&lt;/li&gt;&lt;li&gt;Gra...</td>\n",
       "      <td>{'Body or Garment Size': 'Garment Measurements...</td>\n",
       "      <td>555       ,max</td>\n",
       "      <td>2.0</td>\n",
       "    </tr>\n",
       "    <tr>\n",
       "      <th>1</th>\n",
       "      <td>555</td>\n",
       "      <td>Max</td>\n",
       "      <td>14432274.0</td>\n",
       "      <td>max Cream Regular Top</td>\n",
       "      <td>199.0</td>\n",
       "      <td>Cream</td>\n",
       "      <td>262.0</td>\n",
       "      <td>4.576336</td>\n",
       "      <td>&lt;ul&gt;&lt;li&gt;Cream regular top&lt;/li&gt;&lt;li&gt;Solid&lt;/li&gt;&lt;l...</td>\n",
       "      <td>{'Body Shape ID': '443,333,324,424', 'Body or ...</td>\n",
       "      <td>555       ,max</td>\n",
       "      <td>58.0</td>\n",
       "    </tr>\n",
       "  </tbody>\n",
       "</table>\n",
       "</div>"
      ],
      "text/plain": [
       "   brand_id brand_name        p_id                          name  price  \\\n",
       "0       555        Max  19000284.0  max Peach-Coloured Print Top  169.0   \n",
       "1       555        Max  14432274.0         max Cream Regular Top  199.0   \n",
       "\n",
       "  colour  ratingCount  avg_rating  \\\n",
       "0  Peach          5.0    4.000000   \n",
       "1  Cream        262.0    4.576336   \n",
       "\n",
       "                                         description  \\\n",
       "0  <ul><li>Peach-coloured regular top</li><li>Gra...   \n",
       "1  <ul><li>Cream regular top</li><li>Solid</li><l...   \n",
       "\n",
       "                                        p_attributes        NewBrand  \\\n",
       "0  {'Body or Garment Size': 'Garment Measurements...  555       ,max   \n",
       "1  {'Body Shape ID': '443,333,324,424', 'Body or ...  555       ,max   \n",
       "\n",
       "   CustomerCount  \n",
       "0            2.0  \n",
       "1           58.0  "
      ]
     },
     "execution_count": 365,
     "metadata": {},
     "output_type": "execute_result"
    }
   ],
   "source": [
    "data.head(2)"
   ]
  },
  {
   "cell_type": "code",
   "execution_count": 366,
   "id": "1153de6c",
   "metadata": {},
   "outputs": [],
   "source": [
    "#Creating a rating function to determine if a brand or product is rated good or bad:\n",
    "\n",
    "def rating_function(x):\n",
    "    if x >= 5.0:\n",
    "        return \"Excellent\"\n",
    "    elif x >= 4.0:\n",
    "        return \"Good\"\n",
    "    elif x >= 3.0:\n",
    "        return \"Average\"\n",
    "    elif x>= 2.0:\n",
    "        return \"Poor\"\n",
    "    else:\n",
    "        return \"Very Poor\""
   ]
  },
  {
   "cell_type": "code",
   "execution_count": 367,
   "id": "a09e8950",
   "metadata": {},
   "outputs": [
    {
     "data": {
      "text/html": [
       "<div>\n",
       "<style scoped>\n",
       "    .dataframe tbody tr th:only-of-type {\n",
       "        vertical-align: middle;\n",
       "    }\n",
       "\n",
       "    .dataframe tbody tr th {\n",
       "        vertical-align: top;\n",
       "    }\n",
       "\n",
       "    .dataframe thead th {\n",
       "        text-align: right;\n",
       "    }\n",
       "</style>\n",
       "<table border=\"1\" class=\"dataframe\">\n",
       "  <thead>\n",
       "    <tr style=\"text-align: right;\">\n",
       "      <th></th>\n",
       "      <th>brand_id</th>\n",
       "      <th>brand_name</th>\n",
       "      <th>p_id</th>\n",
       "      <th>name</th>\n",
       "      <th>price</th>\n",
       "      <th>colour</th>\n",
       "      <th>ratingCount</th>\n",
       "      <th>avg_rating</th>\n",
       "      <th>description</th>\n",
       "      <th>p_attributes</th>\n",
       "      <th>NewBrand</th>\n",
       "      <th>CustomerCount</th>\n",
       "      <th>rating</th>\n",
       "    </tr>\n",
       "  </thead>\n",
       "  <tbody>\n",
       "    <tr>\n",
       "      <th>0</th>\n",
       "      <td>555</td>\n",
       "      <td>Max</td>\n",
       "      <td>19000284.0</td>\n",
       "      <td>max Peach-Coloured Print Top</td>\n",
       "      <td>169.0</td>\n",
       "      <td>Peach</td>\n",
       "      <td>5.0</td>\n",
       "      <td>4.000000</td>\n",
       "      <td>&lt;ul&gt;&lt;li&gt;Peach-coloured regular top&lt;/li&gt;&lt;li&gt;Gra...</td>\n",
       "      <td>{'Body or Garment Size': 'Garment Measurements...</td>\n",
       "      <td>555       ,max</td>\n",
       "      <td>2.0</td>\n",
       "      <td>Good</td>\n",
       "    </tr>\n",
       "    <tr>\n",
       "      <th>1</th>\n",
       "      <td>555</td>\n",
       "      <td>Max</td>\n",
       "      <td>14432274.0</td>\n",
       "      <td>max Cream Regular Top</td>\n",
       "      <td>199.0</td>\n",
       "      <td>Cream</td>\n",
       "      <td>262.0</td>\n",
       "      <td>4.576336</td>\n",
       "      <td>&lt;ul&gt;&lt;li&gt;Cream regular top&lt;/li&gt;&lt;li&gt;Solid&lt;/li&gt;&lt;l...</td>\n",
       "      <td>{'Body Shape ID': '443,333,324,424', 'Body or ...</td>\n",
       "      <td>555       ,max</td>\n",
       "      <td>58.0</td>\n",
       "      <td>Good</td>\n",
       "    </tr>\n",
       "  </tbody>\n",
       "</table>\n",
       "</div>"
      ],
      "text/plain": [
       "   brand_id brand_name        p_id                          name  price  \\\n",
       "0       555        Max  19000284.0  max Peach-Coloured Print Top  169.0   \n",
       "1       555        Max  14432274.0         max Cream Regular Top  199.0   \n",
       "\n",
       "  colour  ratingCount  avg_rating  \\\n",
       "0  Peach          5.0    4.000000   \n",
       "1  Cream        262.0    4.576336   \n",
       "\n",
       "                                         description  \\\n",
       "0  <ul><li>Peach-coloured regular top</li><li>Gra...   \n",
       "1  <ul><li>Cream regular top</li><li>Solid</li><l...   \n",
       "\n",
       "                                        p_attributes        NewBrand  \\\n",
       "0  {'Body or Garment Size': 'Garment Measurements...  555       ,max   \n",
       "1  {'Body Shape ID': '443,333,324,424', 'Body or ...  555       ,max   \n",
       "\n",
       "   CustomerCount rating  \n",
       "0            2.0   Good  \n",
       "1           58.0   Good  "
      ]
     },
     "execution_count": 367,
     "metadata": {},
     "output_type": "execute_result"
    }
   ],
   "source": [
    "data[\"rating\"] = data[\"avg_rating\"].apply(rating_function)\n",
    "\n",
    "data.head(2)"
   ]
  },
  {
   "cell_type": "markdown",
   "id": "651ca890",
   "metadata": {},
   "source": [
    "### Exploratory Data Analysis (EDA)"
   ]
  },
  {
   "cell_type": "markdown",
   "id": "02874313",
   "metadata": {},
   "source": [
    "#### Top 10 Sales by Colour"
   ]
  },
  {
   "cell_type": "code",
   "execution_count": 368,
   "id": "bfca50d0",
   "metadata": {
    "scrolled": false
   },
   "outputs": [
    {
     "data": {
      "text/plain": [
       "colour\n",
       "Black        5144227.0\n",
       "Blue         4947975.0\n",
       "Pink         3712845.0\n",
       "Green        3562341.0\n",
       "Navy Blue    2372955.0\n",
       "Red          2135230.0\n",
       "White        1986782.0\n",
       "Grey         1707916.0\n",
       "Maroon       1681390.0\n",
       "Yellow       1678422.0\n",
       "Name: price, dtype: float64"
      ]
     },
     "execution_count": 368,
     "metadata": {},
     "output_type": "execute_result"
    }
   ],
   "source": [
    "top_10_colour = data.groupby('colour').price.sum().sort_values(ascending=False)[:10]\n",
    "top_10_colour"
   ]
  },
  {
   "cell_type": "code",
   "execution_count": 369,
   "id": "6ecdfb1c",
   "metadata": {},
   "outputs": [
    {
     "data": {
      "image/png": "[encoded data removed]",
      "text/plain": [
       "<Figure size 1008x432 with 2 Axes>"
      ]
     },
     "metadata": {
      "needs_background": "light"
     },
     "output_type": "display_data"
    }
   ],
   "source": [
    "fig, ax = plt.subplots(1,2, figsize=[14,6])\n",
    "fig.suptitle(\"Top 10 sales by colour\", fontsize=18)\n",
    "\n",
    "#Pie Chart\n",
    "labels = top_10_colour\n",
    "ax[0].pie(top_10_colour,autopct=\"%.1f%%\", labels=labels)\n",
    "\n",
    "#Bar Chart\n",
    "plt.bar(top_10_colour.index, top_10_colour.values)\n",
    "plt.tick_params(axis='x', labelrotation = 75)\n",
    "plt.tick_params(axis='y', labelrotation = 0)"
   ]
  },
  {
   "attachments": {},
   "cell_type": "markdown",
   "id": "f0922215",
   "metadata": {},
   "source": [
    "- Black colour brands have the highest sales of 17.8%, followed by Blue colour brands with 17.1%"
   ]
  },
  {
   "cell_type": "markdown",
   "id": "13f8fafd",
   "metadata": {},
   "source": [
    "#### Top 10 Brands purchased by Customers"
   ]
  },
  {
   "cell_type": "code",
   "execution_count": 370,
   "id": "0351b991",
   "metadata": {},
   "outputs": [
    {
     "data": {
      "text/plain": [
       "brand_name\n",
       "Sassafras        31352.0\n",
       "Roadster         25293.0\n",
       "Ahika            15926.0\n",
       "Tokyo Talkies    15056.0\n",
       "Anouk            10944.0\n",
       "Vishudh          10232.0\n",
       "Varanga           9214.0\n",
       "Libas             8093.0\n",
       "Anubhutee         7996.0\n",
       "Mitera            5263.0\n",
       "Name: CustomerCount, dtype: float64"
      ]
     },
     "execution_count": 370,
     "metadata": {},
     "output_type": "execute_result"
    }
   ],
   "source": [
    "top_10_brand = data.groupby('brand_name').CustomerCount.sum().sort_values(ascending=False)[:10]\n",
    "top_10_brand"
   ]
  },
  {
   "cell_type": "code",
   "execution_count": 371,
   "id": "5c054621",
   "metadata": {},
   "outputs": [
    {
     "data": {
      "image/png": "[encoded data removed]",
      "text/plain": [
       "<Figure size 1008x432 with 2 Axes>"
      ]
     },
     "metadata": {
      "needs_background": "light"
     },
     "output_type": "display_data"
    }
   ],
   "source": [
    "fig, ax = plt.subplots(1,2, figsize=[14,6])\n",
    "fig.suptitle(\"Top 10 Brands purchased by Customers\", fontsize=18)\n",
    "\n",
    "#Pie Chart\n",
    "labels = top_10_brand\n",
    "ax[0].pie(top_10_brand,autopct=\"%.1f%%\", labels=labels)\n",
    "\n",
    "#Bar Chart\n",
    "plt.bar(top_10_brand.index, top_10_brand.values)\n",
    "plt.tick_params(axis='x', labelrotation = 75)\n",
    "plt.tick_params(axis='y', labelrotation = 0)"
   ]
  },
  {
   "attachments": {},
   "cell_type": "markdown",
   "id": "c1d5b790",
   "metadata": {},
   "source": [
    "- Sassafras tops the list with 31,352 quantities sold (22.5%), followed by Roadster, with 25,293 quantities (18.1%)."
   ]
  },
  {
   "cell_type": "markdown",
   "id": "bf801417",
   "metadata": {},
   "source": [
    "#### Top Rated Brands"
   ]
  },
  {
   "cell_type": "code",
   "execution_count": 372,
   "id": "09b02a37",
   "metadata": {},
   "outputs": [
    {
     "data": {
      "text/plain": [
       "brand_name\n",
       "Reebok                       4.833333\n",
       "Allen Solly Tribe            4.769231\n",
       "Angel & Rocket               4.727273\n",
       "Kbz                          4.677419\n",
       "Dexter By Kook N Keech       4.652174\n",
       "Juniper Plus                 4.650000\n",
       "Swishchick                   4.625000\n",
       "Kook N Keech Looney Tunes    4.625000\n",
       "Quarantine                   4.600000\n",
       "Juneberry                    4.600000\n",
       "Name: avg_rating, dtype: float64"
      ]
     },
     "execution_count": 372,
     "metadata": {},
     "output_type": "execute_result"
    }
   ],
   "source": [
    "top_10_rated = data.groupby('brand_name').avg_rating.mean().sort_values(ascending=False)[:10]\n",
    "top_10_rated"
   ]
  },
  {
   "cell_type": "code",
   "execution_count": 373,
   "id": "dd6bd7eb",
   "metadata": {
    "scrolled": true
   },
   "outputs": [
    {
     "data": {
      "image/png": "[encoded data removed]",
      "text/plain": [
       "<Figure size 360x360 with 1 Axes>"
      ]
     },
     "metadata": {},
     "output_type": "display_data"
    }
   ],
   "source": [
    "label  = top_10_rated.index\n",
    "plt.figure(figsize=(5,5))\n",
    "plt.pie(top_10_rated, autopct='%1.1f%%', labels=label)\n",
    "\n",
    "plt.title(\"Top rated brands\", fontsize=18)\n",
    "\n",
    "plt.show()"
   ]
  },
  {
   "attachments": {},
   "cell_type": "markdown",
   "id": "1bea8324",
   "metadata": {},
   "source": [
    "- Reebok have the highest rating of 4.8"
   ]
  },
  {
   "cell_type": "markdown",
   "id": "ba89a1db",
   "metadata": {},
   "source": [
    "#### Least Rated Brands"
   ]
  },
  {
   "cell_type": "code",
   "execution_count": 374,
   "id": "134fbdee",
   "metadata": {
    "scrolled": true
   },
   "outputs": [
    {
     "data": {
      "text/plain": [
       "brand_name\n",
       "Park Avenue     1.666667\n",
       "Athlisis        2.800000\n",
       "Baby Lakshmi    3.000000\n",
       "Toothless       3.000000\n",
       "Saadhvi         3.000000\n",
       "Roly Poly       3.062500\n",
       "Anahi           3.066667\n",
       "Triveni         3.200000\n",
       "Femme Luxe      3.250000\n",
       "Maiyee          3.250000\n",
       "Name: avg_rating, dtype: float64"
      ]
     },
     "execution_count": 374,
     "metadata": {},
     "output_type": "execute_result"
    }
   ],
   "source": [
    "least_10_rated = data.groupby('brand_name').avg_rating.mean().sort_values(ascending=True)[:10]\n",
    "least_10_rated"
   ]
  },
  {
   "cell_type": "code",
   "execution_count": 375,
   "id": "e1a13b12",
   "metadata": {},
   "outputs": [
    {
     "data": {
      "image/png": "[encoded data removed]",
      "text/plain": [
       "<Figure size 360x360 with 1 Axes>"
      ]
     },
     "metadata": {},
     "output_type": "display_data"
    }
   ],
   "source": [
    "label  = least_10_rated.index\n",
    "plt.figure(figsize=(5,5))\n",
    "plt.pie(least_10_rated, autopct='%1.1f%%', labels=label)\n",
    "\n",
    "plt.title(\"Least rated brands\", fontsize=18)\n",
    "\n",
    "plt.show()"
   ]
  },
  {
   "attachments": {},
   "cell_type": "markdown",
   "id": "830e8f86",
   "metadata": {},
   "source": [
    "- Park Avenue has the least customer rating of 1.6"
   ]
  },
  {
   "cell_type": "markdown",
   "id": "4695902f",
   "metadata": {},
   "source": [
    "#### Top rated Colours"
   ]
  },
  {
   "cell_type": "code",
   "execution_count": 376,
   "id": "252c5e51",
   "metadata": {},
   "outputs": [
    {
     "data": {
      "text/plain": [
       "colour\n",
       "Mauve                4.150852\n",
       "Fluorescent Green    4.147887\n",
       "Taupe                4.132997\n",
       "Khaki                4.125687\n",
       "Assorted             4.118644\n",
       "Olive                4.116359\n",
       "Grey Melange         4.086263\n",
       "Charcoal             4.080761\n",
       "Navy Blue            4.073072\n",
       "Lavender             4.072600\n",
       "Name: avg_rating, dtype: float64"
      ]
     },
     "execution_count": 376,
     "metadata": {},
     "output_type": "execute_result"
    }
   ],
   "source": [
    "top_rated_colors = data.groupby('colour').avg_rating.mean().sort_values(ascending=False)[:10]\n",
    "top_rated_colors"
   ]
  },
  {
   "cell_type": "code",
   "execution_count": 377,
   "id": "d0c528f2",
   "metadata": {},
   "outputs": [
    {
     "data": {
      "image/png": "[encoded data removed]",
      "text/plain": [
       "<Figure size 360x360 with 1 Axes>"
      ]
     },
     "metadata": {},
     "output_type": "display_data"
    }
   ],
   "source": [
    "label  = top_rated_colors.index\n",
    "plt.figure(figsize=(5,5))\n",
    "plt.pie(top_rated_colors, autopct='%1.1f%%', labels=label)\n",
    "\n",
    "plt.title(\"Top rated colours\", fontsize=18)\n",
    "\n",
    "plt.show()"
   ]
  },
  {
   "attachments": {},
   "cell_type": "markdown",
   "id": "e20f3805",
   "metadata": {},
   "source": [
    "- The colour that has the highest rating is Mauve, followed by Fluorescent Green"
   ]
  },
  {
   "cell_type": "markdown",
   "id": "1342d018",
   "metadata": {},
   "source": [
    "#### Least rated Colours"
   ]
  },
  {
   "cell_type": "code",
   "execution_count": 378,
   "id": "3c95a03c",
   "metadata": {
    "scrolled": true
   },
   "outputs": [
    {
     "data": {
      "text/plain": [
       "colour\n",
       "Coffee Brown    3.942553\n",
       "Violet          3.945765\n",
       "Multi           3.959059\n",
       "Tan             3.970996\n",
       "Silver          3.975809\n",
       "Orange          3.981188\n",
       "Rose Gold       4.000000\n",
       "Bronze          4.000000\n",
       "Champagne       4.000000\n",
       "Lime Green      4.008432\n",
       "Name: avg_rating, dtype: float64"
      ]
     },
     "execution_count": 378,
     "metadata": {},
     "output_type": "execute_result"
    }
   ],
   "source": [
    "least_rated_colors = data.groupby('colour').avg_rating.mean().sort_values(ascending=True)[:10]\n",
    "least_rated_colors"
   ]
  },
  {
   "cell_type": "code",
   "execution_count": 379,
   "id": "ffefd023",
   "metadata": {},
   "outputs": [
    {
     "data": {
      "image/png": "[encoded data removed]",
      "text/plain": [
       "<Figure size 360x360 with 1 Axes>"
      ]
     },
     "metadata": {},
     "output_type": "display_data"
    }
   ],
   "source": [
    "label  = least_rated_colors.index\n",
    "plt.figure(figsize=(5,5))\n",
    "plt.pie(least_rated_colors, autopct='%1.1f%%', labels=label)\n",
    "\n",
    "plt.title(\"Least rated colours\", fontsize=20)\n",
    "\n",
    "plt.show()"
   ]
  },
  {
   "cell_type": "markdown",
   "id": "7dec3450",
   "metadata": {},
   "source": [
    "- The colour that has the least rating is Coffee Brown"
   ]
  },
  {
   "cell_type": "markdown",
   "id": "4edbab62",
   "metadata": {},
   "source": [
    "#### Customer Count and Rating against Price"
   ]
  },
  {
   "cell_type": "code",
   "execution_count": 380,
   "id": "8b0a7380",
   "metadata": {
    "scrolled": true
   },
   "outputs": [
    {
     "data": {
      "text/plain": [
       "<AxesSubplot: xlabel='price', ylabel='CustomerCount'>"
      ]
     },
     "execution_count": 380,
     "metadata": {},
     "output_type": "execute_result"
    },
    {
     "data": {
      "image/png": "[encoded data removed]",
      "text/plain": [
       "<Figure size 576x360 with 1 Axes>"
      ]
     },
     "metadata": {
      "needs_background": "light"
     },
     "output_type": "display_data"
    }
   ],
   "source": [
    "plt.figure(figsize=(8,5))\n",
    "sns.scatterplot(data=data, x=\"price\", y=\"CustomerCount\", hue = \"rating\")"
   ]
  },
  {
   "attachments": {},
   "cell_type": "markdown",
   "id": "2666fe3a",
   "metadata": {},
   "source": [
    "- Using scatter plot to display customer count and rating against price, most customers prefer buying products that have price tag of 10000 and below, it also shows that they are satisfied with the products, as they rate them “Good”. This shows that most customers in the fashion store prefer buying products with lesser price than buying the ones that have higher value."
   ]
  },
  {
   "cell_type": "markdown",
   "id": "d023280e",
   "metadata": {},
   "source": [
    "#### Box Plot of Each Ranking Indicator"
   ]
  },
  {
   "cell_type": "code",
   "execution_count": 381,
   "id": "3663e535",
   "metadata": {},
   "outputs": [
    {
     "data": {
      "text/plain": [
       "Text(0.5, 1.0, 'CustomerCount')"
      ]
     },
     "execution_count": 381,
     "metadata": {},
     "output_type": "execute_result"
    },
    {
     "data": {
      "image/png": "[encoded data removed]",
      "text/plain": [
       "<Figure size 1080x720 with 6 Axes>"
      ]
     },
     "metadata": {
      "needs_background": "light"
     },
     "output_type": "display_data"
    }
   ],
   "source": [
    "fig, ax = plt.subplots(3,2, figsize=[15,10])\n",
    "fig.suptitle(\"Box Plot of Each ranking indicator\", fontsize=20)\n",
    "\n",
    "ax[0,0].boxplot(data['brand_id'])\n",
    "ax[0, 0].set_title('brand_id')\n",
    "\n",
    "ax[0,1].boxplot(data['p_id'])\n",
    "ax[0, 1].set_title('p_id')\n",
    "\n",
    "ax[1,0].boxplot(data['price'])\n",
    "ax[1,0].set_title('price')\n",
    "\n",
    "ax[1,1].boxplot(data['ratingCount'])\n",
    "ax[1, 1].set_title('ratingCount')\n",
    "\n",
    "ax[2,0].boxplot(data['avg_rating'])\n",
    "ax[2,0].set_title('avg_rating')\n",
    "\n",
    "ax[2,1].boxplot(data['CustomerCount'])\n",
    "ax[2,1].set_title('CustomerCount')"
   ]
  },
  {
   "cell_type": "markdown",
   "id": "2b7c29ae",
   "metadata": {},
   "source": [
    "- There are several outliers which need to be deleted"
   ]
  },
  {
   "cell_type": "markdown",
   "id": "72e69c31",
   "metadata": {},
   "source": [
    "#### Data Manipulation - Categorical to Numeric\n",
    "- As machine learning models and preditive analysis cannot be built with data in raw form without being skewed, the label encoder will be used to convert categorical variables to numerical"
   ]
  },
  {
   "cell_type": "code",
   "execution_count": 382,
   "id": "dd4b09cd",
   "metadata": {},
   "outputs": [
    {
     "name": "stdout",
     "output_type": "stream",
     "text": [
      "<class 'pandas.core.frame.DataFrame'>\n",
      "Int64Index: 14263 entries, 0 to 14304\n",
      "Data columns (total 13 columns):\n",
      " #   Column         Non-Null Count  Dtype   \n",
      "---  ------         --------------  -----   \n",
      " 0   brand_id       14263 non-null  int64   \n",
      " 1   brand_name     14263 non-null  object  \n",
      " 2   p_id           14263 non-null  float64 \n",
      " 3   name           14263 non-null  object  \n",
      " 4   price          14263 non-null  float64 \n",
      " 5   colour         14263 non-null  category\n",
      " 6   ratingCount    14263 non-null  float64 \n",
      " 7   avg_rating     14263 non-null  float64 \n",
      " 8   description    14263 non-null  object  \n",
      " 9   p_attributes   14263 non-null  object  \n",
      " 10  NewBrand       14263 non-null  object  \n",
      " 11  CustomerCount  14263 non-null  float64 \n",
      " 12  rating         14263 non-null  object  \n",
      "dtypes: category(1), float64(5), int64(1), object(6)\n",
      "memory usage: 1.4+ MB\n"
     ]
    }
   ],
   "source": [
    "data.info()"
   ]
  },
  {
   "cell_type": "code",
   "execution_count": 383,
   "id": "163791b7",
   "metadata": {},
   "outputs": [
    {
     "data": {
      "text/html": [
       "<div>\n",
       "<style scoped>\n",
       "    .dataframe tbody tr th:only-of-type {\n",
       "        vertical-align: middle;\n",
       "    }\n",
       "\n",
       "    .dataframe tbody tr th {\n",
       "        vertical-align: top;\n",
       "    }\n",
       "\n",
       "    .dataframe thead th {\n",
       "        text-align: right;\n",
       "    }\n",
       "</style>\n",
       "<table border=\"1\" class=\"dataframe\">\n",
       "  <thead>\n",
       "    <tr style=\"text-align: right;\">\n",
       "      <th></th>\n",
       "      <th>brand_id</th>\n",
       "      <th>brand_name</th>\n",
       "      <th>p_id</th>\n",
       "      <th>name</th>\n",
       "      <th>price</th>\n",
       "      <th>colour</th>\n",
       "      <th>ratingCount</th>\n",
       "      <th>avg_rating</th>\n",
       "      <th>description</th>\n",
       "      <th>p_attributes</th>\n",
       "      <th>NewBrand</th>\n",
       "      <th>CustomerCount</th>\n",
       "      <th>rating</th>\n",
       "    </tr>\n",
       "  </thead>\n",
       "  <tbody>\n",
       "    <tr>\n",
       "      <th>0</th>\n",
       "      <td>555</td>\n",
       "      <td>554</td>\n",
       "      <td>19000284.0</td>\n",
       "      <td>13566</td>\n",
       "      <td>169.0</td>\n",
       "      <td>33</td>\n",
       "      <td>5.0</td>\n",
       "      <td>4.000000</td>\n",
       "      <td>5019</td>\n",
       "      <td>9475</td>\n",
       "      <td>527</td>\n",
       "      <td>2.0</td>\n",
       "      <td>2</td>\n",
       "    </tr>\n",
       "    <tr>\n",
       "      <th>1</th>\n",
       "      <td>555</td>\n",
       "      <td>554</td>\n",
       "      <td>14432274.0</td>\n",
       "      <td>13552</td>\n",
       "      <td>199.0</td>\n",
       "      <td>13</td>\n",
       "      <td>262.0</td>\n",
       "      <td>4.576336</td>\n",
       "      <td>4564</td>\n",
       "      <td>8299</td>\n",
       "      <td>527</td>\n",
       "      <td>58.0</td>\n",
       "      <td>2</td>\n",
       "    </tr>\n",
       "    <tr>\n",
       "      <th>2</th>\n",
       "      <td>555</td>\n",
       "      <td>554</td>\n",
       "      <td>14432282.0</td>\n",
       "      <td>13575</td>\n",
       "      <td>199.0</td>\n",
       "      <td>47</td>\n",
       "      <td>308.0</td>\n",
       "      <td>4.464286</td>\n",
       "      <td>4100</td>\n",
       "      <td>8299</td>\n",
       "      <td>527</td>\n",
       "      <td>69.0</td>\n",
       "      <td>2</td>\n",
       "    </tr>\n",
       "    <tr>\n",
       "      <th>3</th>\n",
       "      <td>438</td>\n",
       "      <td>437</td>\n",
       "      <td>18988158.0</td>\n",
       "      <td>5348</td>\n",
       "      <td>249.0</td>\n",
       "      <td>47</td>\n",
       "      <td>5.0</td>\n",
       "      <td>4.000000</td>\n",
       "      <td>4083</td>\n",
       "      <td>9474</td>\n",
       "      <td>397</td>\n",
       "      <td>2.0</td>\n",
       "      <td>2</td>\n",
       "    </tr>\n",
       "    <tr>\n",
       "      <th>4</th>\n",
       "      <td>431</td>\n",
       "      <td>430</td>\n",
       "      <td>14846678.0</td>\n",
       "      <td>5318</td>\n",
       "      <td>295.0</td>\n",
       "      <td>2</td>\n",
       "      <td>117.0</td>\n",
       "      <td>4.504273</td>\n",
       "      <td>6705</td>\n",
       "      <td>7334</td>\n",
       "      <td>390</td>\n",
       "      <td>26.0</td>\n",
       "      <td>2</td>\n",
       "    </tr>\n",
       "  </tbody>\n",
       "</table>\n",
       "</div>"
      ],
      "text/plain": [
       "   brand_id  brand_name        p_id   name  price  colour  ratingCount  \\\n",
       "0       555         554  19000284.0  13566  169.0      33          5.0   \n",
       "1       555         554  14432274.0  13552  199.0      13        262.0   \n",
       "2       555         554  14432282.0  13575  199.0      47        308.0   \n",
       "3       438         437  18988158.0   5348  249.0      47          5.0   \n",
       "4       431         430  14846678.0   5318  295.0       2        117.0   \n",
       "\n",
       "   avg_rating  description  p_attributes  NewBrand  CustomerCount  rating  \n",
       "0    4.000000         5019          9475       527            2.0       2  \n",
       "1    4.576336         4564          8299       527           58.0       2  \n",
       "2    4.464286         4100          8299       527           69.0       2  \n",
       "3    4.000000         4083          9474       397            2.0       2  \n",
       "4    4.504273         6705          7334       390           26.0       2  "
      ]
     },
     "execution_count": 383,
     "metadata": {},
     "output_type": "execute_result"
    }
   ],
   "source": [
    "#Use Label Encoder to convert categorical variables to numerical\n",
    "\n",
    "from sklearn.preprocessing import LabelEncoder\n",
    "\n",
    "data_sklearn = data\n",
    "\n",
    "lb_make = LabelEncoder()\n",
    "data_sklearn['brand_name'] = lb_make.fit_transform(data['brand_name'])\n",
    "data_sklearn['name'] = lb_make.fit_transform(data['name'])\n",
    "data_sklearn['colour'] = lb_make.fit_transform(data['colour'])\n",
    "data_sklearn['description'] = lb_make.fit_transform(data['description'])\n",
    "data_sklearn['NewBrand'] = lb_make.fit_transform(data['NewBrand'])\n",
    "data_sklearn['rating'] = lb_make.fit_transform(data['rating'])\n",
    "data_sklearn['p_attributes'] = lb_make.fit_transform(data['p_attributes'])\n",
    "\n",
    "data_sklearn.head()"
   ]
  },
  {
   "cell_type": "markdown",
   "id": "6be7a2d7",
   "metadata": {},
   "source": [
    "- All categorical elements in the data have been converted to numerical and assigned values"
   ]
  },
  {
   "cell_type": "code",
   "execution_count": 384,
   "id": "f9ee87bf",
   "metadata": {},
   "outputs": [
    {
     "name": "stdout",
     "output_type": "stream",
     "text": [
      "brand_id         int64\n",
      "brand_name       int32\n",
      "p_id             int64\n",
      "name             int32\n",
      "price            int64\n",
      "colour           int32\n",
      "ratingCount      int64\n",
      "avg_rating       int64\n",
      "description      int32\n",
      "p_attributes     int32\n",
      "NewBrand         int32\n",
      "CustomerCount    int64\n",
      "rating           int32\n",
      "dtype: object\n"
     ]
    }
   ],
   "source": [
    "#round off variables in float and convert to integer\n",
    "\n",
    "data['p_id'] = data['p_id'].apply(np.int64)\n",
    "data['price'] = data['price'].apply(np.int64)\n",
    "data['ratingCount'] = data['ratingCount'].apply(np.int64)\n",
    "data['avg_rating'] = data['avg_rating'].apply(np.int64)\n",
    "data['CustomerCount'] = data['CustomerCount'].apply(np.int64)\n",
    "\n",
    "print(data.dtypes)"
   ]
  },
  {
   "cell_type": "markdown",
   "id": "352a9f9f",
   "metadata": {},
   "source": [
    "- All float types values in the dataset have now been converted to integers"
   ]
  },
  {
   "cell_type": "code",
   "execution_count": 385,
   "id": "81e15b0e",
   "metadata": {},
   "outputs": [
    {
     "data": {
      "text/html": [
       "<div>\n",
       "<style scoped>\n",
       "    .dataframe tbody tr th:only-of-type {\n",
       "        vertical-align: middle;\n",
       "    }\n",
       "\n",
       "    .dataframe tbody tr th {\n",
       "        vertical-align: top;\n",
       "    }\n",
       "\n",
       "    .dataframe thead th {\n",
       "        text-align: right;\n",
       "    }\n",
       "</style>\n",
       "<table border=\"1\" class=\"dataframe\">\n",
       "  <thead>\n",
       "    <tr style=\"text-align: right;\">\n",
       "      <th></th>\n",
       "      <th>brand_id</th>\n",
       "      <th>brand_name</th>\n",
       "      <th>p_id</th>\n",
       "      <th>name</th>\n",
       "      <th>price</th>\n",
       "      <th>colour</th>\n",
       "      <th>ratingCount</th>\n",
       "      <th>avg_rating</th>\n",
       "      <th>description</th>\n",
       "      <th>p_attributes</th>\n",
       "      <th>NewBrand</th>\n",
       "      <th>CustomerCount</th>\n",
       "      <th>rating</th>\n",
       "    </tr>\n",
       "  </thead>\n",
       "  <tbody>\n",
       "    <tr>\n",
       "      <th>0</th>\n",
       "      <td>555</td>\n",
       "      <td>554</td>\n",
       "      <td>19000284</td>\n",
       "      <td>13566</td>\n",
       "      <td>169</td>\n",
       "      <td>33</td>\n",
       "      <td>5</td>\n",
       "      <td>4</td>\n",
       "      <td>5019</td>\n",
       "      <td>9475</td>\n",
       "      <td>527</td>\n",
       "      <td>2</td>\n",
       "      <td>2</td>\n",
       "    </tr>\n",
       "    <tr>\n",
       "      <th>1</th>\n",
       "      <td>555</td>\n",
       "      <td>554</td>\n",
       "      <td>14432274</td>\n",
       "      <td>13552</td>\n",
       "      <td>199</td>\n",
       "      <td>13</td>\n",
       "      <td>262</td>\n",
       "      <td>4</td>\n",
       "      <td>4564</td>\n",
       "      <td>8299</td>\n",
       "      <td>527</td>\n",
       "      <td>58</td>\n",
       "      <td>2</td>\n",
       "    </tr>\n",
       "    <tr>\n",
       "      <th>2</th>\n",
       "      <td>555</td>\n",
       "      <td>554</td>\n",
       "      <td>14432282</td>\n",
       "      <td>13575</td>\n",
       "      <td>199</td>\n",
       "      <td>47</td>\n",
       "      <td>308</td>\n",
       "      <td>4</td>\n",
       "      <td>4100</td>\n",
       "      <td>8299</td>\n",
       "      <td>527</td>\n",
       "      <td>69</td>\n",
       "      <td>2</td>\n",
       "    </tr>\n",
       "    <tr>\n",
       "      <th>3</th>\n",
       "      <td>438</td>\n",
       "      <td>437</td>\n",
       "      <td>18988158</td>\n",
       "      <td>5348</td>\n",
       "      <td>249</td>\n",
       "      <td>47</td>\n",
       "      <td>5</td>\n",
       "      <td>4</td>\n",
       "      <td>4083</td>\n",
       "      <td>9474</td>\n",
       "      <td>397</td>\n",
       "      <td>2</td>\n",
       "      <td>2</td>\n",
       "    </tr>\n",
       "    <tr>\n",
       "      <th>4</th>\n",
       "      <td>431</td>\n",
       "      <td>430</td>\n",
       "      <td>14846678</td>\n",
       "      <td>5318</td>\n",
       "      <td>295</td>\n",
       "      <td>2</td>\n",
       "      <td>117</td>\n",
       "      <td>4</td>\n",
       "      <td>6705</td>\n",
       "      <td>7334</td>\n",
       "      <td>390</td>\n",
       "      <td>26</td>\n",
       "      <td>2</td>\n",
       "    </tr>\n",
       "  </tbody>\n",
       "</table>\n",
       "</div>"
      ],
      "text/plain": [
       "   brand_id  brand_name      p_id   name  price  colour  ratingCount  \\\n",
       "0       555         554  19000284  13566    169      33            5   \n",
       "1       555         554  14432274  13552    199      13          262   \n",
       "2       555         554  14432282  13575    199      47          308   \n",
       "3       438         437  18988158   5348    249      47            5   \n",
       "4       431         430  14846678   5318    295       2          117   \n",
       "\n",
       "   avg_rating  description  p_attributes  NewBrand  CustomerCount  rating  \n",
       "0           4         5019          9475       527              2       2  \n",
       "1           4         4564          8299       527             58       2  \n",
       "2           4         4100          8299       527             69       2  \n",
       "3           4         4083          9474       397              2       2  \n",
       "4           4         6705          7334       390             26       2  "
      ]
     },
     "execution_count": 385,
     "metadata": {},
     "output_type": "execute_result"
    }
   ],
   "source": [
    "data.head()"
   ]
  },
  {
   "cell_type": "code",
   "execution_count": 386,
   "id": "4cad35eb",
   "metadata": {},
   "outputs": [
    {
     "data": {
      "text/html": [
       "<div>\n",
       "<style scoped>\n",
       "    .dataframe tbody tr th:only-of-type {\n",
       "        vertical-align: middle;\n",
       "    }\n",
       "\n",
       "    .dataframe tbody tr th {\n",
       "        vertical-align: top;\n",
       "    }\n",
       "\n",
       "    .dataframe thead th {\n",
       "        text-align: right;\n",
       "    }\n",
       "</style>\n",
       "<table border=\"1\" class=\"dataframe\">\n",
       "  <thead>\n",
       "    <tr style=\"text-align: right;\">\n",
       "      <th></th>\n",
       "      <th>brand_id</th>\n",
       "      <th>brand_name</th>\n",
       "      <th>p_id</th>\n",
       "      <th>name</th>\n",
       "      <th>price</th>\n",
       "      <th>colour</th>\n",
       "      <th>ratingCount</th>\n",
       "      <th>avg_rating</th>\n",
       "      <th>description</th>\n",
       "      <th>p_attributes</th>\n",
       "      <th>NewBrand</th>\n",
       "      <th>CustomerCount</th>\n",
       "      <th>rating</th>\n",
       "    </tr>\n",
       "  </thead>\n",
       "  <tbody>\n",
       "    <tr>\n",
       "      <th>count</th>\n",
       "      <td>14263.000000</td>\n",
       "      <td>14263.000000</td>\n",
       "      <td>1.426300e+04</td>\n",
       "      <td>14263.000000</td>\n",
       "      <td>14263.000000</td>\n",
       "      <td>14263.000000</td>\n",
       "      <td>14263.000000</td>\n",
       "      <td>14263.000000</td>\n",
       "      <td>14263.000000</td>\n",
       "      <td>14263.000000</td>\n",
       "      <td>14263.000000</td>\n",
       "      <td>14263.000000</td>\n",
       "      <td>14263.000000</td>\n",
       "    </tr>\n",
       "    <tr>\n",
       "      <th>mean</th>\n",
       "      <td>531.674332</td>\n",
       "      <td>530.683587</td>\n",
       "      <td>1.569040e+07</td>\n",
       "      <td>6938.271542</td>\n",
       "      <td>2968.048167</td>\n",
       "      <td>21.354554</td>\n",
       "      <td>87.228984</td>\n",
       "      <td>3.853397</td>\n",
       "      <td>7114.577228</td>\n",
       "      <td>6682.409451</td>\n",
       "      <td>532.837622</td>\n",
       "      <td>21.694875</td>\n",
       "      <td>1.747669</td>\n",
       "    </tr>\n",
       "    <tr>\n",
       "      <th>std</th>\n",
       "      <td>292.420210</td>\n",
       "      <td>292.447255</td>\n",
       "      <td>3.152970e+06</td>\n",
       "      <td>4003.691241</td>\n",
       "      <td>2566.982531</td>\n",
       "      <td>15.499590</td>\n",
       "      <td>536.926729</td>\n",
       "      <td>0.412983</td>\n",
       "      <td>4106.999314</td>\n",
       "      <td>3800.197403</td>\n",
       "      <td>292.860200</td>\n",
       "      <td>129.330640</td>\n",
       "      <td>0.690037</td>\n",
       "    </tr>\n",
       "    <tr>\n",
       "      <th>min</th>\n",
       "      <td>1.000000</td>\n",
       "      <td>0.000000</td>\n",
       "      <td>7.016600e+04</td>\n",
       "      <td>0.000000</td>\n",
       "      <td>169.000000</td>\n",
       "      <td>0.000000</td>\n",
       "      <td>1.000000</td>\n",
       "      <td>1.000000</td>\n",
       "      <td>0.000000</td>\n",
       "      <td>0.000000</td>\n",
       "      <td>0.000000</td>\n",
       "      <td>1.000000</td>\n",
       "      <td>0.000000</td>\n",
       "    </tr>\n",
       "    <tr>\n",
       "      <th>25%</th>\n",
       "      <td>278.000000</td>\n",
       "      <td>277.000000</td>\n",
       "      <td>1.413744e+07</td>\n",
       "      <td>3471.500000</td>\n",
       "      <td>1599.000000</td>\n",
       "      <td>3.000000</td>\n",
       "      <td>5.000000</td>\n",
       "      <td>4.000000</td>\n",
       "      <td>3558.500000</td>\n",
       "      <td>3396.500000</td>\n",
       "      <td>291.000000</td>\n",
       "      <td>2.000000</td>\n",
       "      <td>2.000000</td>\n",
       "    </tr>\n",
       "    <tr>\n",
       "      <th>50%</th>\n",
       "      <td>551.000000</td>\n",
       "      <td>550.000000</td>\n",
       "      <td>1.638204e+07</td>\n",
       "      <td>6955.000000</td>\n",
       "      <td>2200.000000</td>\n",
       "      <td>24.000000</td>\n",
       "      <td>5.000000</td>\n",
       "      <td>4.000000</td>\n",
       "      <td>7115.000000</td>\n",
       "      <td>6696.000000</td>\n",
       "      <td>541.000000</td>\n",
       "      <td>2.000000</td>\n",
       "      <td>2.000000</td>\n",
       "    </tr>\n",
       "    <tr>\n",
       "      <th>75%</th>\n",
       "      <td>783.000000</td>\n",
       "      <td>782.000000</td>\n",
       "      <td>1.807606e+07</td>\n",
       "      <td>10390.500000</td>\n",
       "      <td>3497.500000</td>\n",
       "      <td>34.000000</td>\n",
       "      <td>19.000000</td>\n",
       "      <td>4.000000</td>\n",
       "      <td>10670.500000</td>\n",
       "      <td>10016.500000</td>\n",
       "      <td>780.000000</td>\n",
       "      <td>5.000000</td>\n",
       "      <td>2.000000</td>\n",
       "    </tr>\n",
       "    <tr>\n",
       "      <th>max</th>\n",
       "      <td>1020.000000</td>\n",
       "      <td>1019.000000</td>\n",
       "      <td>1.941576e+07</td>\n",
       "      <td>13879.000000</td>\n",
       "      <td>47999.000000</td>\n",
       "      <td>48.000000</td>\n",
       "      <td>21274.000000</td>\n",
       "      <td>5.000000</td>\n",
       "      <td>14229.000000</td>\n",
       "      <td>13093.000000</td>\n",
       "      <td>1019.000000</td>\n",
       "      <td>5348.000000</td>\n",
       "      <td>4.000000</td>\n",
       "    </tr>\n",
       "  </tbody>\n",
       "</table>\n",
       "</div>"
      ],
      "text/plain": [
       "           brand_id    brand_name          p_id          name         price  \\\n",
       "count  14263.000000  14263.000000  1.426300e+04  14263.000000  14263.000000   \n",
       "mean     531.674332    530.683587  1.569040e+07   6938.271542   2968.048167   \n",
       "std      292.420210    292.447255  3.152970e+06   4003.691241   2566.982531   \n",
       "min        1.000000      0.000000  7.016600e+04      0.000000    169.000000   \n",
       "25%      278.000000    277.000000  1.413744e+07   3471.500000   1599.000000   \n",
       "50%      551.000000    550.000000  1.638204e+07   6955.000000   2200.000000   \n",
       "75%      783.000000    782.000000  1.807606e+07  10390.500000   3497.500000   \n",
       "max     1020.000000   1019.000000  1.941576e+07  13879.000000  47999.000000   \n",
       "\n",
       "             colour   ratingCount    avg_rating   description  p_attributes  \\\n",
       "count  14263.000000  14263.000000  14263.000000  14263.000000  14263.000000   \n",
       "mean      21.354554     87.228984      3.853397   7114.577228   6682.409451   \n",
       "std       15.499590    536.926729      0.412983   4106.999314   3800.197403   \n",
       "min        0.000000      1.000000      1.000000      0.000000      0.000000   \n",
       "25%        3.000000      5.000000      4.000000   3558.500000   3396.500000   \n",
       "50%       24.000000      5.000000      4.000000   7115.000000   6696.000000   \n",
       "75%       34.000000     19.000000      4.000000  10670.500000  10016.500000   \n",
       "max       48.000000  21274.000000      5.000000  14229.000000  13093.000000   \n",
       "\n",
       "           NewBrand  CustomerCount        rating  \n",
       "count  14263.000000   14263.000000  14263.000000  \n",
       "mean     532.837622      21.694875      1.747669  \n",
       "std      292.860200     129.330640      0.690037  \n",
       "min        0.000000       1.000000      0.000000  \n",
       "25%      291.000000       2.000000      2.000000  \n",
       "50%      541.000000       2.000000      2.000000  \n",
       "75%      780.000000       5.000000      2.000000  \n",
       "max     1019.000000    5348.000000      4.000000  "
      ]
     },
     "execution_count": 386,
     "metadata": {},
     "output_type": "execute_result"
    }
   ],
   "source": [
    "#check statistical features\n",
    "data.describe()"
   ]
  },
  {
   "attachments": {},
   "cell_type": "markdown",
   "id": "6a862ff4",
   "metadata": {},
   "source": [
    "#### Checking and deleting Outliers\n",
    "\n",
    "Outliers are extreme data points that can have an impact on statistical analysis. "
   ]
  },
  {
   "cell_type": "code",
   "execution_count": 387,
   "id": "6a9a92da",
   "metadata": {},
   "outputs": [],
   "source": [
    "import scipy.stats as stats"
   ]
  },
  {
   "cell_type": "code",
   "execution_count": 388,
   "id": "87796d76",
   "metadata": {},
   "outputs": [
    {
     "data": {
      "text/plain": [
       "(9236, 13)"
      ]
     },
     "execution_count": 388,
     "metadata": {},
     "output_type": "execute_result"
    }
   ],
   "source": [
    "#find Q1, Q3, and interquartile range for each column\n",
    "Q1 = data.quantile(q=.25)\n",
    "Q3 = data.quantile(q=.75)\n",
    "IQR = data.apply(stats.iqr)\n",
    "\n",
    "#only keep rows in dataframe that have values within 1.5*IQR of Q1 and Q3\n",
    "data_clean = data[~((data < (Q1-1.5*IQR)) | (data > (Q3+1.5*IQR))).any(axis=1)]\n",
    "\n",
    "#find how many rows are left in the dataframe \n",
    "data_clean.shape"
   ]
  },
  {
   "cell_type": "markdown",
   "id": "336a20df",
   "metadata": {},
   "source": [
    "#### Normalzing the Dataset\n",
    "Machine learning algorithms tend to perform better or converge faster when the different features (variables) are on a smaller scale. Therefore it is common practice to normalize the data before training machine learning models on it.Normalization also makes the training process less sensitive to the scale of the features. This results in getting better coefficients after training.\n"
   ]
  },
  {
   "cell_type": "code",
   "execution_count": 389,
   "id": "6ce8a19c",
   "metadata": {},
   "outputs": [
    {
     "data": {
      "text/html": [
       "<div>\n",
       "<style scoped>\n",
       "    .dataframe tbody tr th:only-of-type {\n",
       "        vertical-align: middle;\n",
       "    }\n",
       "\n",
       "    .dataframe tbody tr th {\n",
       "        vertical-align: top;\n",
       "    }\n",
       "\n",
       "    .dataframe thead th {\n",
       "        text-align: right;\n",
       "    }\n",
       "</style>\n",
       "<table border=\"1\" class=\"dataframe\">\n",
       "  <thead>\n",
       "    <tr style=\"text-align: right;\">\n",
       "      <th></th>\n",
       "      <th>brand_id</th>\n",
       "      <th>brand_name</th>\n",
       "      <th>p_id</th>\n",
       "      <th>name</th>\n",
       "      <th>price</th>\n",
       "      <th>colour</th>\n",
       "      <th>ratingCount</th>\n",
       "      <th>avg_rating</th>\n",
       "      <th>description</th>\n",
       "      <th>p_attributes</th>\n",
       "      <th>NewBrand</th>\n",
       "      <th>CustomerCount</th>\n",
       "      <th>rating</th>\n",
       "    </tr>\n",
       "  </thead>\n",
       "  <tbody>\n",
       "    <tr>\n",
       "      <th>0</th>\n",
       "      <td>0.543670</td>\n",
       "      <td>0.543670</td>\n",
       "      <td>0.962695</td>\n",
       "      <td>0.977448</td>\n",
       "      <td>0.000000</td>\n",
       "      <td>0.687500</td>\n",
       "      <td>0.102564</td>\n",
       "      <td>0.0</td>\n",
       "      <td>0.352730</td>\n",
       "      <td>0.724312</td>\n",
       "      <td>0.517174</td>\n",
       "      <td>0.125</td>\n",
       "      <td>0.0</td>\n",
       "    </tr>\n",
       "    <tr>\n",
       "      <th>1</th>\n",
       "      <td>0.428852</td>\n",
       "      <td>0.428852</td>\n",
       "      <td>0.961606</td>\n",
       "      <td>0.385330</td>\n",
       "      <td>0.012962</td>\n",
       "      <td>0.979167</td>\n",
       "      <td>0.102564</td>\n",
       "      <td>0.0</td>\n",
       "      <td>0.286949</td>\n",
       "      <td>0.724235</td>\n",
       "      <td>0.389598</td>\n",
       "      <td>0.125</td>\n",
       "      <td>0.0</td>\n",
       "    </tr>\n",
       "    <tr>\n",
       "      <th>2</th>\n",
       "      <td>0.815505</td>\n",
       "      <td>0.815505</td>\n",
       "      <td>0.604578</td>\n",
       "      <td>0.763095</td>\n",
       "      <td>0.020901</td>\n",
       "      <td>0.583333</td>\n",
       "      <td>0.358974</td>\n",
       "      <td>0.0</td>\n",
       "      <td>0.737016</td>\n",
       "      <td>0.926300</td>\n",
       "      <td>0.819431</td>\n",
       "      <td>0.375</td>\n",
       "      <td>0.0</td>\n",
       "    </tr>\n",
       "    <tr>\n",
       "      <th>3</th>\n",
       "      <td>0.543670</td>\n",
       "      <td>0.543670</td>\n",
       "      <td>0.627460</td>\n",
       "      <td>0.975647</td>\n",
       "      <td>0.021063</td>\n",
       "      <td>0.020833</td>\n",
       "      <td>0.384615</td>\n",
       "      <td>0.0</td>\n",
       "      <td>0.391243</td>\n",
       "      <td>0.927523</td>\n",
       "      <td>0.517174</td>\n",
       "      <td>0.375</td>\n",
       "      <td>0.0</td>\n",
       "    </tr>\n",
       "    <tr>\n",
       "      <th>4</th>\n",
       "      <td>0.543670</td>\n",
       "      <td>0.543670</td>\n",
       "      <td>0.627462</td>\n",
       "      <td>0.976367</td>\n",
       "      <td>0.021063</td>\n",
       "      <td>0.250000</td>\n",
       "      <td>0.333333</td>\n",
       "      <td>0.0</td>\n",
       "      <td>0.556118</td>\n",
       "      <td>0.927523</td>\n",
       "      <td>0.517174</td>\n",
       "      <td>0.375</td>\n",
       "      <td>0.0</td>\n",
       "    </tr>\n",
       "  </tbody>\n",
       "</table>\n",
       "</div>"
      ],
      "text/plain": [
       "   brand_id  brand_name      p_id      name     price    colour  ratingCount  \\\n",
       "0  0.543670    0.543670  0.962695  0.977448  0.000000  0.687500     0.102564   \n",
       "1  0.428852    0.428852  0.961606  0.385330  0.012962  0.979167     0.102564   \n",
       "2  0.815505    0.815505  0.604578  0.763095  0.020901  0.583333     0.358974   \n",
       "3  0.543670    0.543670  0.627460  0.975647  0.021063  0.020833     0.384615   \n",
       "4  0.543670    0.543670  0.627462  0.976367  0.021063  0.250000     0.333333   \n",
       "\n",
       "   avg_rating  description  p_attributes  NewBrand  CustomerCount  rating  \n",
       "0         0.0     0.352730      0.724312  0.517174          0.125     0.0  \n",
       "1         0.0     0.286949      0.724235  0.389598          0.125     0.0  \n",
       "2         0.0     0.737016      0.926300  0.819431          0.375     0.0  \n",
       "3         0.0     0.391243      0.927523  0.517174          0.375     0.0  \n",
       "4         0.0     0.556118      0.927523  0.517174          0.375     0.0  "
      ]
     },
     "execution_count": 389,
     "metadata": {},
     "output_type": "execute_result"
    }
   ],
   "source": [
    "scaler = preprocessing.MinMaxScaler()\n",
    "names = data_clean.columns\n",
    "d = scaler.fit_transform(data_clean)\n",
    "scaled_df = pd.DataFrame(d, columns=names)\n",
    "scaled_df.head()"
   ]
  },
  {
   "cell_type": "markdown",
   "id": "c1d601a5",
   "metadata": {},
   "source": [
    "#### Data Correlation\n",
    "Correlation is a statistical metric that reflects how tightly two variables are related linearly, which means they change at the same pace. It is a common strategy for conveying simple relationships, without directly declaring cause and effect.\n",
    "It is a measure of how items relate to one another. In this data set, the relationship between target (price) and other variables are analysed with correlation.\n"
   ]
  },
  {
   "cell_type": "code",
   "execution_count": 390,
   "id": "81340880",
   "metadata": {
    "scrolled": false
   },
   "outputs": [
    {
     "data": {
      "text/html": [
       "<div>\n",
       "<style scoped>\n",
       "    .dataframe tbody tr th:only-of-type {\n",
       "        vertical-align: middle;\n",
       "    }\n",
       "\n",
       "    .dataframe tbody tr th {\n",
       "        vertical-align: top;\n",
       "    }\n",
       "\n",
       "    .dataframe thead th {\n",
       "        text-align: right;\n",
       "    }\n",
       "</style>\n",
       "<table border=\"1\" class=\"dataframe\">\n",
       "  <thead>\n",
       "    <tr style=\"text-align: right;\">\n",
       "      <th></th>\n",
       "      <th>brand_id</th>\n",
       "      <th>brand_name</th>\n",
       "      <th>p_id</th>\n",
       "      <th>name</th>\n",
       "      <th>price</th>\n",
       "      <th>colour</th>\n",
       "      <th>ratingCount</th>\n",
       "      <th>avg_rating</th>\n",
       "      <th>description</th>\n",
       "      <th>p_attributes</th>\n",
       "      <th>NewBrand</th>\n",
       "      <th>CustomerCount</th>\n",
       "      <th>rating</th>\n",
       "    </tr>\n",
       "  </thead>\n",
       "  <tbody>\n",
       "    <tr>\n",
       "      <th>brand_id</th>\n",
       "      <td>1.000000</td>\n",
       "      <td>0.999992</td>\n",
       "      <td>0.063133</td>\n",
       "      <td>0.884120</td>\n",
       "      <td>0.054093</td>\n",
       "      <td>-0.019136</td>\n",
       "      <td>0.028593</td>\n",
       "      <td>NaN</td>\n",
       "      <td>-0.040415</td>\n",
       "      <td>0.000575</td>\n",
       "      <td>0.734194</td>\n",
       "      <td>0.028641</td>\n",
       "      <td>NaN</td>\n",
       "    </tr>\n",
       "    <tr>\n",
       "      <th>brand_name</th>\n",
       "      <td>0.999992</td>\n",
       "      <td>1.000000</td>\n",
       "      <td>0.063062</td>\n",
       "      <td>0.884135</td>\n",
       "      <td>0.054321</td>\n",
       "      <td>-0.019151</td>\n",
       "      <td>0.028650</td>\n",
       "      <td>NaN</td>\n",
       "      <td>-0.040267</td>\n",
       "      <td>0.000702</td>\n",
       "      <td>0.734174</td>\n",
       "      <td>0.028697</td>\n",
       "      <td>NaN</td>\n",
       "    </tr>\n",
       "    <tr>\n",
       "      <th>p_id</th>\n",
       "      <td>0.063133</td>\n",
       "      <td>0.063062</td>\n",
       "      <td>1.000000</td>\n",
       "      <td>0.072723</td>\n",
       "      <td>0.082755</td>\n",
       "      <td>-0.009492</td>\n",
       "      <td>-0.319339</td>\n",
       "      <td>NaN</td>\n",
       "      <td>-0.214350</td>\n",
       "      <td>-0.082223</td>\n",
       "      <td>0.053188</td>\n",
       "      <td>-0.299920</td>\n",
       "      <td>NaN</td>\n",
       "    </tr>\n",
       "    <tr>\n",
       "      <th>name</th>\n",
       "      <td>0.884120</td>\n",
       "      <td>0.884135</td>\n",
       "      <td>0.072723</td>\n",
       "      <td>1.000000</td>\n",
       "      <td>0.020494</td>\n",
       "      <td>-0.013539</td>\n",
       "      <td>0.032739</td>\n",
       "      <td>NaN</td>\n",
       "      <td>-0.037524</td>\n",
       "      <td>0.003366</td>\n",
       "      <td>0.667484</td>\n",
       "      <td>0.032192</td>\n",
       "      <td>NaN</td>\n",
       "    </tr>\n",
       "    <tr>\n",
       "      <th>price</th>\n",
       "      <td>0.054093</td>\n",
       "      <td>0.054321</td>\n",
       "      <td>0.082755</td>\n",
       "      <td>0.020494</td>\n",
       "      <td>1.000000</td>\n",
       "      <td>0.004915</td>\n",
       "      <td>-0.085904</td>\n",
       "      <td>NaN</td>\n",
       "      <td>0.124778</td>\n",
       "      <td>-0.147598</td>\n",
       "      <td>0.022450</td>\n",
       "      <td>-0.081636</td>\n",
       "      <td>NaN</td>\n",
       "    </tr>\n",
       "    <tr>\n",
       "      <th>colour</th>\n",
       "      <td>-0.019136</td>\n",
       "      <td>-0.019151</td>\n",
       "      <td>-0.009492</td>\n",
       "      <td>-0.013539</td>\n",
       "      <td>0.004915</td>\n",
       "      <td>1.000000</td>\n",
       "      <td>-0.007651</td>\n",
       "      <td>NaN</td>\n",
       "      <td>0.355302</td>\n",
       "      <td>0.075368</td>\n",
       "      <td>-0.010024</td>\n",
       "      <td>-0.008999</td>\n",
       "      <td>NaN</td>\n",
       "    </tr>\n",
       "    <tr>\n",
       "      <th>ratingCount</th>\n",
       "      <td>0.028593</td>\n",
       "      <td>0.028650</td>\n",
       "      <td>-0.319339</td>\n",
       "      <td>0.032739</td>\n",
       "      <td>-0.085904</td>\n",
       "      <td>-0.007651</td>\n",
       "      <td>1.000000</td>\n",
       "      <td>NaN</td>\n",
       "      <td>0.002519</td>\n",
       "      <td>-0.022594</td>\n",
       "      <td>0.049588</td>\n",
       "      <td>0.989629</td>\n",
       "      <td>NaN</td>\n",
       "    </tr>\n",
       "    <tr>\n",
       "      <th>avg_rating</th>\n",
       "      <td>NaN</td>\n",
       "      <td>NaN</td>\n",
       "      <td>NaN</td>\n",
       "      <td>NaN</td>\n",
       "      <td>NaN</td>\n",
       "      <td>NaN</td>\n",
       "      <td>NaN</td>\n",
       "      <td>NaN</td>\n",
       "      <td>NaN</td>\n",
       "      <td>NaN</td>\n",
       "      <td>NaN</td>\n",
       "      <td>NaN</td>\n",
       "      <td>NaN</td>\n",
       "    </tr>\n",
       "    <tr>\n",
       "      <th>description</th>\n",
       "      <td>-0.040415</td>\n",
       "      <td>-0.040267</td>\n",
       "      <td>-0.214350</td>\n",
       "      <td>-0.037524</td>\n",
       "      <td>0.124778</td>\n",
       "      <td>0.355302</td>\n",
       "      <td>0.002519</td>\n",
       "      <td>NaN</td>\n",
       "      <td>1.000000</td>\n",
       "      <td>0.178980</td>\n",
       "      <td>-0.045750</td>\n",
       "      <td>0.002443</td>\n",
       "      <td>NaN</td>\n",
       "    </tr>\n",
       "    <tr>\n",
       "      <th>p_attributes</th>\n",
       "      <td>0.000575</td>\n",
       "      <td>0.000702</td>\n",
       "      <td>-0.082223</td>\n",
       "      <td>0.003366</td>\n",
       "      <td>-0.147598</td>\n",
       "      <td>0.075368</td>\n",
       "      <td>-0.022594</td>\n",
       "      <td>NaN</td>\n",
       "      <td>0.178980</td>\n",
       "      <td>1.000000</td>\n",
       "      <td>0.001399</td>\n",
       "      <td>-0.021218</td>\n",
       "      <td>NaN</td>\n",
       "    </tr>\n",
       "    <tr>\n",
       "      <th>NewBrand</th>\n",
       "      <td>0.734194</td>\n",
       "      <td>0.734174</td>\n",
       "      <td>0.053188</td>\n",
       "      <td>0.667484</td>\n",
       "      <td>0.022450</td>\n",
       "      <td>-0.010024</td>\n",
       "      <td>0.049588</td>\n",
       "      <td>NaN</td>\n",
       "      <td>-0.045750</td>\n",
       "      <td>0.001399</td>\n",
       "      <td>1.000000</td>\n",
       "      <td>0.047551</td>\n",
       "      <td>NaN</td>\n",
       "    </tr>\n",
       "    <tr>\n",
       "      <th>CustomerCount</th>\n",
       "      <td>0.028641</td>\n",
       "      <td>0.028697</td>\n",
       "      <td>-0.299920</td>\n",
       "      <td>0.032192</td>\n",
       "      <td>-0.081636</td>\n",
       "      <td>-0.008999</td>\n",
       "      <td>0.989629</td>\n",
       "      <td>NaN</td>\n",
       "      <td>0.002443</td>\n",
       "      <td>-0.021218</td>\n",
       "      <td>0.047551</td>\n",
       "      <td>1.000000</td>\n",
       "      <td>NaN</td>\n",
       "    </tr>\n",
       "    <tr>\n",
       "      <th>rating</th>\n",
       "      <td>NaN</td>\n",
       "      <td>NaN</td>\n",
       "      <td>NaN</td>\n",
       "      <td>NaN</td>\n",
       "      <td>NaN</td>\n",
       "      <td>NaN</td>\n",
       "      <td>NaN</td>\n",
       "      <td>NaN</td>\n",
       "      <td>NaN</td>\n",
       "      <td>NaN</td>\n",
       "      <td>NaN</td>\n",
       "      <td>NaN</td>\n",
       "      <td>NaN</td>\n",
       "    </tr>\n",
       "  </tbody>\n",
       "</table>\n",
       "</div>"
      ],
      "text/plain": [
       "               brand_id  brand_name      p_id      name     price    colour  \\\n",
       "brand_id       1.000000    0.999992  0.063133  0.884120  0.054093 -0.019136   \n",
       "brand_name     0.999992    1.000000  0.063062  0.884135  0.054321 -0.019151   \n",
       "p_id           0.063133    0.063062  1.000000  0.072723  0.082755 -0.009492   \n",
       "name           0.884120    0.884135  0.072723  1.000000  0.020494 -0.013539   \n",
       "price          0.054093    0.054321  0.082755  0.020494  1.000000  0.004915   \n",
       "colour        -0.019136   -0.019151 -0.009492 -0.013539  0.004915  1.000000   \n",
       "ratingCount    0.028593    0.028650 -0.319339  0.032739 -0.085904 -0.007651   \n",
       "avg_rating          NaN         NaN       NaN       NaN       NaN       NaN   \n",
       "description   -0.040415   -0.040267 -0.214350 -0.037524  0.124778  0.355302   \n",
       "p_attributes   0.000575    0.000702 -0.082223  0.003366 -0.147598  0.075368   \n",
       "NewBrand       0.734194    0.734174  0.053188  0.667484  0.022450 -0.010024   \n",
       "CustomerCount  0.028641    0.028697 -0.299920  0.032192 -0.081636 -0.008999   \n",
       "rating              NaN         NaN       NaN       NaN       NaN       NaN   \n",
       "\n",
       "               ratingCount  avg_rating  description  p_attributes  NewBrand  \\\n",
       "brand_id          0.028593         NaN    -0.040415      0.000575  0.734194   \n",
       "brand_name        0.028650         NaN    -0.040267      0.000702  0.734174   \n",
       "p_id             -0.319339         NaN    -0.214350     -0.082223  0.053188   \n",
       "name              0.032739         NaN    -0.037524      0.003366  0.667484   \n",
       "price            -0.085904         NaN     0.124778     -0.147598  0.022450   \n",
       "colour           -0.007651         NaN     0.355302      0.075368 -0.010024   \n",
       "ratingCount       1.000000         NaN     0.002519     -0.022594  0.049588   \n",
       "avg_rating             NaN         NaN          NaN           NaN       NaN   \n",
       "description       0.002519         NaN     1.000000      0.178980 -0.045750   \n",
       "p_attributes     -0.022594         NaN     0.178980      1.000000  0.001399   \n",
       "NewBrand          0.049588         NaN    -0.045750      0.001399  1.000000   \n",
       "CustomerCount     0.989629         NaN     0.002443     -0.021218  0.047551   \n",
       "rating                 NaN         NaN          NaN           NaN       NaN   \n",
       "\n",
       "               CustomerCount  rating  \n",
       "brand_id            0.028641     NaN  \n",
       "brand_name          0.028697     NaN  \n",
       "p_id               -0.299920     NaN  \n",
       "name                0.032192     NaN  \n",
       "price              -0.081636     NaN  \n",
       "colour             -0.008999     NaN  \n",
       "ratingCount         0.989629     NaN  \n",
       "avg_rating               NaN     NaN  \n",
       "description         0.002443     NaN  \n",
       "p_attributes       -0.021218     NaN  \n",
       "NewBrand            0.047551     NaN  \n",
       "CustomerCount       1.000000     NaN  \n",
       "rating                   NaN     NaN  "
      ]
     },
     "execution_count": 390,
     "metadata": {},
     "output_type": "execute_result"
    }
   ],
   "source": [
    "scaled_df.corr()"
   ]
  },
  {
   "cell_type": "code",
   "execution_count": 391,
   "id": "b92912d4",
   "metadata": {},
   "outputs": [
    {
     "data": {
      "text/plain": [
       "<AxesSubplot: >"
      ]
     },
     "execution_count": 391,
     "metadata": {},
     "output_type": "execute_result"
    },
    {
     "data": {
      "image/png": "[encoded data removed]",
      "text/plain": [
       "<Figure size 720x576 with 2 Axes>"
      ]
     },
     "metadata": {
      "needs_background": "light"
     },
     "output_type": "display_data"
    }
   ],
   "source": [
    "plt.figure(figsize=(10,8))\n",
    "sns.heatmap(scaled_df.corr(),annot=True)"
   ]
  },
  {
   "cell_type": "markdown",
   "id": "51909089",
   "metadata": {},
   "source": [
    "- avg_rating and rating do not correlate very well with the price, they will not be considered in the model and will be dropped during feature selection."
   ]
  },
  {
   "cell_type": "markdown",
   "id": "7c68fa78",
   "metadata": {},
   "source": [
    "#### Import ML algorithms and initialize them\n",
    "In this process, four regression models are built and trained, which are Random Forest, Decision Tree Regressor, Support Vector Regression, and Gradient Boosting Regressor. \n",
    "First, we define a variable to store the model algorithm, next, we fit the train set variables into the model, and finally make some predictions in the test set."
   ]
  },
  {
   "cell_type": "code",
   "execution_count": 392,
   "id": "7996f8a6",
   "metadata": {},
   "outputs": [],
   "source": [
    "#import and load libraries\n",
    "import sklearn\n",
    "\n",
    "from sklearn.tree import DecisionTreeRegressor\n",
    "from sklearn.ensemble import RandomForestRegressor\n",
    "from sklearn.svm import SVR\n",
    "from sklearn.ensemble import GradientBoostingRegressor\n",
    "\n",
    "from sklearn.metrics import accuracy_score, classification_report\n",
    "from sklearn import tree\n",
    "import seaborn as sns\n",
    "\n",
    "from sklearn.metrics import mean_squared_error\n",
    "from sklearn.metrics import mean_absolute_error\n",
    "from sklearn.metrics import r2_score\n",
    "\n",
    "from sklearn.model_selection import train_test_split"
   ]
  },
  {
   "cell_type": "markdown",
   "id": "869eb7a4",
   "metadata": {},
   "source": [
    "#### Select Target"
   ]
  },
  {
   "cell_type": "code",
   "execution_count": 393,
   "id": "60c072bb",
   "metadata": {},
   "outputs": [],
   "source": [
    "y = scaled_df.price"
   ]
  },
  {
   "cell_type": "code",
   "execution_count": 394,
   "id": "2fa29144",
   "metadata": {
    "scrolled": true
   },
   "outputs": [
    {
     "data": {
      "text/plain": [
       "0    0.000000\n",
       "1    0.012962\n",
       "2    0.020901\n",
       "3    0.021063\n",
       "4    0.021063\n",
       "Name: price, dtype: float64"
      ]
     },
     "execution_count": 394,
     "metadata": {},
     "output_type": "execute_result"
    }
   ],
   "source": [
    "y.head()"
   ]
  },
  {
   "cell_type": "markdown",
   "id": "9191d2e9",
   "metadata": {},
   "source": [
    "#### Select Features\n",
    "- We are dropping 'price' column, since 'price' is our target. Avg_rating and rating columns will also be dropped, since both variables have no correlation with price\n"
   ]
  },
  {
   "cell_type": "code",
   "execution_count": 396,
   "id": "999f81e2",
   "metadata": {},
   "outputs": [
    {
     "data": {
      "text/plain": [
       "(9236, 10)"
      ]
     },
     "execution_count": 396,
     "metadata": {},
     "output_type": "execute_result"
    }
   ],
   "source": [
    "features = scaled_df.drop([\"price\", 'avg_rating', 'rating'],axis=1)\n",
    "features.shape"
   ]
  },
  {
   "cell_type": "code",
   "execution_count": 397,
   "id": "a74cd5e3",
   "metadata": {},
   "outputs": [],
   "source": [
    "X = scaled_df[features.columns]"
   ]
  },
  {
   "cell_type": "markdown",
   "id": "eba0459b",
   "metadata": {},
   "source": [
    "#### Train Test Split"
   ]
  },
  {
   "cell_type": "code",
   "execution_count": 398,
   "id": "d95e21e9",
   "metadata": {},
   "outputs": [],
   "source": [
    "X_train,X_test,y_train,y_test=train_test_split(X,y,test_size=0.3, random_state=42)"
   ]
  },
  {
   "cell_type": "markdown",
   "id": "894c59b7",
   "metadata": {},
   "source": [
    "#### Random Forest Regressor"
   ]
  },
  {
   "cell_type": "code",
   "execution_count": 399,
   "id": "30e0b51d",
   "metadata": {},
   "outputs": [],
   "source": [
    "RF_model = RandomForestRegressor()"
   ]
  },
  {
   "cell_type": "code",
   "execution_count": 400,
   "id": "deef7e6b",
   "metadata": {},
   "outputs": [
    {
     "data": {
      "text/plain": [
       "RandomForestRegressor()"
      ]
     },
     "execution_count": 400,
     "metadata": {},
     "output_type": "execute_result"
    }
   ],
   "source": [
    "#fit the model on the training data\n",
    "RF_model.fit(X_train, y_train)"
   ]
  },
  {
   "cell_type": "code",
   "execution_count": 401,
   "id": "cabc04ed",
   "metadata": {},
   "outputs": [],
   "source": [
    "#predict on test data\n",
    "preds_RF = RF_model.predict(X_test)"
   ]
  },
  {
   "cell_type": "code",
   "execution_count": 402,
   "id": "b68c7e3f",
   "metadata": {},
   "outputs": [
    {
     "data": {
      "text/plain": [
       "0.6207330061331241"
      ]
     },
     "execution_count": 402,
     "metadata": {},
     "output_type": "execute_result"
    }
   ],
   "source": [
    "RF_model.score(X_test, y_test)"
   ]
  },
  {
   "cell_type": "code",
   "execution_count": 403,
   "id": "1b525c5c",
   "metadata": {},
   "outputs": [
    {
     "name": "stdout",
     "output_type": "stream",
     "text": [
      "Actual prices: [0.0696694750486066, 0.29650032404407, 0.2154893065456902, 0.16688269604666234, 0.3371678548282566]\n",
      "Predicted prices: [0.09363415 0.31893065 0.31125891 0.22108555 0.27751134]\n"
     ]
    }
   ],
   "source": [
    "print('Actual prices:', y_test.head().tolist())\n",
    "print('Predicted prices:', preds_RF[:5])"
   ]
  },
  {
   "cell_type": "code",
   "execution_count": 404,
   "id": "cbd451bf",
   "metadata": {},
   "outputs": [
    {
     "name": "stdout",
     "output_type": "stream",
     "text": [
      "0.09161388096742183\n"
     ]
    }
   ],
   "source": [
    "mae_RF = mean_absolute_error(y_test,preds_RF)\n",
    "print(mae_RF)"
   ]
  },
  {
   "cell_type": "code",
   "execution_count": 405,
   "id": "54d536fc",
   "metadata": {},
   "outputs": [
    {
     "name": "stdout",
     "output_type": "stream",
     "text": [
      "0.016417627251488758\n"
     ]
    }
   ],
   "source": [
    "mse_RF = mean_squared_error(y_test,preds_RF)\n",
    "print(mse_RF)"
   ]
  },
  {
   "cell_type": "code",
   "execution_count": 406,
   "id": "69499b64",
   "metadata": {
    "scrolled": true
   },
   "outputs": [
    {
     "name": "stdout",
     "output_type": "stream",
     "text": [
      "0.6207330061331241\n"
     ]
    }
   ],
   "source": [
    "r2_RF = r2_score(y_test, preds_RF) #coefficient of determination\n",
    "print(r2_RF)"
   ]
  },
  {
   "cell_type": "markdown",
   "id": "4ad0bc0e",
   "metadata": {},
   "source": [
    "#### Decision Tree Regressor"
   ]
  },
  {
   "cell_type": "code",
   "execution_count": 407,
   "id": "9f5274b4",
   "metadata": {},
   "outputs": [],
   "source": [
    "DT_model = DecisionTreeRegressor()"
   ]
  },
  {
   "cell_type": "code",
   "execution_count": 408,
   "id": "1fee76cc",
   "metadata": {},
   "outputs": [
    {
     "data": {
      "text/plain": [
       "DecisionTreeRegressor()"
      ]
     },
     "execution_count": 408,
     "metadata": {},
     "output_type": "execute_result"
    }
   ],
   "source": [
    "DT_model.fit(X_train, y_train)"
   ]
  },
  {
   "cell_type": "code",
   "execution_count": 409,
   "id": "c19e0200",
   "metadata": {},
   "outputs": [],
   "source": [
    "preds_DT = DT_model.predict(X_test)"
   ]
  },
  {
   "cell_type": "code",
   "execution_count": 410,
   "id": "f32ea180",
   "metadata": {},
   "outputs": [
    {
     "data": {
      "text/plain": [
       "0.283334559380762"
      ]
     },
     "execution_count": 410,
     "metadata": {},
     "output_type": "execute_result"
    }
   ],
   "source": [
    "DT_model.score(X_test, y_test)"
   ]
  },
  {
   "cell_type": "code",
   "execution_count": 411,
   "id": "9133e259",
   "metadata": {},
   "outputs": [
    {
     "name": "stdout",
     "output_type": "stream",
     "text": [
      "Actual prices: [0.0696694750486066, 0.29650032404407, 0.2154893065456902, 0.16688269604666234, 0.3371678548282566]\n",
      "Predicted prices: [0.05346727 0.18794556 0.13447829 0.1749838  0.18292288]\n"
     ]
    }
   ],
   "source": [
    "print('Actual prices:', y_test.head().tolist())\n",
    "print('Predicted prices:', preds_DT[:5])"
   ]
  },
  {
   "cell_type": "code",
   "execution_count": 412,
   "id": "79555250",
   "metadata": {
    "scrolled": true
   },
   "outputs": [
    {
     "name": "stdout",
     "output_type": "stream",
     "text": [
      "0.11717537648635191\n"
     ]
    }
   ],
   "source": [
    "mae_DT = mean_absolute_error(y_test,preds_DT)\n",
    "print(mae_DT)"
   ]
  },
  {
   "cell_type": "code",
   "execution_count": 413,
   "id": "334ffe06",
   "metadata": {},
   "outputs": [
    {
     "name": "stdout",
     "output_type": "stream",
     "text": [
      "0.031022857929578995\n"
     ]
    }
   ],
   "source": [
    "mse_DT = mean_squared_error(y_test,preds_DT)\n",
    "print(mse_DT)"
   ]
  },
  {
   "cell_type": "code",
   "execution_count": 414,
   "id": "e5beb574",
   "metadata": {
    "scrolled": true
   },
   "outputs": [
    {
     "name": "stdout",
     "output_type": "stream",
     "text": [
      "0.283334559380762\n"
     ]
    }
   ],
   "source": [
    "r2_DT = r2_score(y_test, preds_DT) #coefficient of determination\n",
    "print(r2_DT)"
   ]
  },
  {
   "cell_type": "markdown",
   "id": "20dc2a9a",
   "metadata": {},
   "source": [
    "#### Support Vector Regression"
   ]
  },
  {
   "cell_type": "code",
   "execution_count": 415,
   "id": "6d93a0e6",
   "metadata": {},
   "outputs": [],
   "source": [
    "SVR_model = SVR()"
   ]
  },
  {
   "cell_type": "code",
   "execution_count": 416,
   "id": "ef64600c",
   "metadata": {},
   "outputs": [
    {
     "data": {
      "text/plain": [
       "SVR()"
      ]
     },
     "execution_count": 416,
     "metadata": {},
     "output_type": "execute_result"
    }
   ],
   "source": [
    "SVR_model.fit(X_train, y_train)"
   ]
  },
  {
   "cell_type": "code",
   "execution_count": 417,
   "id": "c5a7ef08",
   "metadata": {},
   "outputs": [],
   "source": [
    "preds_SVR = SVR_model.predict(X_test)"
   ]
  },
  {
   "cell_type": "code",
   "execution_count": 418,
   "id": "11509791",
   "metadata": {},
   "outputs": [
    {
     "name": "stdout",
     "output_type": "stream",
     "text": [
      "Actual prices: [0.0696694750486066, 0.29650032404407, 0.2154893065456902, 0.16688269604666234, 0.3371678548282566]\n",
      "Predicted prices: [0.16894343 0.39891364 0.42341152 0.37251194 0.3222024 ]\n"
     ]
    }
   ],
   "source": [
    "print('Actual prices:', y_test.head().tolist())\n",
    "print('Predicted prices:', preds_SVR[:5])"
   ]
  },
  {
   "cell_type": "code",
   "execution_count": 419,
   "id": "a437adfa",
   "metadata": {},
   "outputs": [
    {
     "name": "stdout",
     "output_type": "stream",
     "text": [
      "0.1426462949451954\n"
     ]
    }
   ],
   "source": [
    "mae_SVR = mean_absolute_error(y_test,preds_SVR)\n",
    "print(mae_SVR)"
   ]
  },
  {
   "cell_type": "code",
   "execution_count": 420,
   "id": "490506ce",
   "metadata": {},
   "outputs": [
    {
     "name": "stdout",
     "output_type": "stream",
     "text": [
      "0.0353378080346414\n"
     ]
    }
   ],
   "source": [
    "mse_SVR = mean_squared_error(y_test,preds_SVR)\n",
    "print(mse_SVR)"
   ]
  },
  {
   "cell_type": "code",
   "execution_count": 421,
   "id": "3a136988",
   "metadata": {},
   "outputs": [
    {
     "name": "stdout",
     "output_type": "stream",
     "text": [
      "0.18365400688897737\n"
     ]
    }
   ],
   "source": [
    "r2_SVR = r2_score(y_test, preds_SVR) #coefficient of determination\n",
    "print(r2_SVR)"
   ]
  },
  {
   "cell_type": "markdown",
   "id": "b326041e",
   "metadata": {},
   "source": [
    "#### Gradient Boosting Regressor"
   ]
  },
  {
   "cell_type": "code",
   "execution_count": 422,
   "id": "eea9b762",
   "metadata": {},
   "outputs": [],
   "source": [
    "GBR_model=GradientBoostingRegressor(n_estimators=100, max_depth=5, min_samples_split=2,learning_rate=0.2)"
   ]
  },
  {
   "cell_type": "code",
   "execution_count": 423,
   "id": "3de4ae58",
   "metadata": {
    "scrolled": true
   },
   "outputs": [
    {
     "data": {
      "text/plain": [
       "GradientBoostingRegressor(learning_rate=0.2, max_depth=5)"
      ]
     },
     "execution_count": 423,
     "metadata": {},
     "output_type": "execute_result"
    }
   ],
   "source": [
    "GBR_model.fit(X_train, y_train)"
   ]
  },
  {
   "cell_type": "code",
   "execution_count": 424,
   "id": "7411578b",
   "metadata": {},
   "outputs": [],
   "source": [
    "preds_GBR=GBR_model.predict(X_test)"
   ]
  },
  {
   "cell_type": "code",
   "execution_count": 425,
   "id": "95f34ebd",
   "metadata": {},
   "outputs": [
    {
     "data": {
      "text/plain": [
       "0.6089034479894039"
      ]
     },
     "execution_count": 425,
     "metadata": {},
     "output_type": "execute_result"
    }
   ],
   "source": [
    "GBR_model.score(X_test, y_test)"
   ]
  },
  {
   "cell_type": "code",
   "execution_count": 426,
   "id": "57dcd386",
   "metadata": {},
   "outputs": [
    {
     "name": "stdout",
     "output_type": "stream",
     "text": [
      "Actual prices: [0.0696694750486066, 0.29650032404407, 0.2154893065456902, 0.16688269604666234, 0.3371678548282566]\n",
      "Predicted prices: [0.0509019  0.4226067  0.40552655 0.23165514 0.32742175]\n"
     ]
    }
   ],
   "source": [
    "print('Actual prices:', y_test.head().tolist())\n",
    "print('Predicted prices:', preds_GBR[:5])"
   ]
  },
  {
   "cell_type": "code",
   "execution_count": 427,
   "id": "3abbf1fe",
   "metadata": {
    "scrolled": true
   },
   "outputs": [
    {
     "name": "stdout",
     "output_type": "stream",
     "text": [
      "0.09704239476270897\n"
     ]
    }
   ],
   "source": [
    "mae_GBR = mean_absolute_error(y_test,preds_GBR)\n",
    "print(mae_GBR)"
   ]
  },
  {
   "cell_type": "code",
   "execution_count": 428,
   "id": "87839361",
   "metadata": {},
   "outputs": [
    {
     "name": "stdout",
     "output_type": "stream",
     "text": [
      "0.01692970259496455\n"
     ]
    }
   ],
   "source": [
    "mse_GBR = mean_squared_error(y_test,preds_GBR)\n",
    "print(mse_GBR)"
   ]
  },
  {
   "cell_type": "code",
   "execution_count": 429,
   "id": "071e0eed",
   "metadata": {},
   "outputs": [
    {
     "name": "stdout",
     "output_type": "stream",
     "text": [
      "0.1301141905979688\n"
     ]
    }
   ],
   "source": [
    "errors = mean_squared_error(y_test,preds_GBR, squared=False)\n",
    "print(errors)"
   ]
  },
  {
   "cell_type": "code",
   "execution_count": 430,
   "id": "5acf82f3",
   "metadata": {},
   "outputs": [
    {
     "name": "stdout",
     "output_type": "stream",
     "text": [
      "0.6089034479894039\n"
     ]
    }
   ],
   "source": [
    "r2_GBR = r2_score(y_test, preds_GBR) #coefficient of determination\n",
    "print(r2_GBR)"
   ]
  },
  {
   "cell_type": "markdown",
   "id": "9b925158",
   "metadata": {},
   "source": [
    "#### Calculating Mean Absolute Error"
   ]
  },
  {
   "cell_type": "code",
   "execution_count": 431,
   "id": "c56b05e3",
   "metadata": {},
   "outputs": [
    {
     "name": "stdout",
     "output_type": "stream",
     "text": [
      "Mean Absolute Error with Random Forest:  0.09161388096742183\n",
      "Mean Absolute Error with Decision Tree:  0.11717537648635191\n",
      "Mean Absolute Error with Support Vector Regression:  0.1426462949451954\n",
      "Mean Absolute Error with Gradient Boosting Regressor:  0.09704239476270897\n"
     ]
    }
   ],
   "source": [
    "mae_RF = mean_absolute_error(y_test,preds_RF)\n",
    "mae_DT = mean_absolute_error(y_test,preds_DT)\n",
    "mae_SVR = mean_absolute_error(y_test,preds_SVR)\n",
    "mae_GBR = mean_absolute_error(y_test,preds_GBR)\n",
    "\n",
    "\n",
    "print('Mean Absolute Error with Random Forest: ',mae_RF)\n",
    "print('Mean Absolute Error with Decision Tree: ',mae_DT)\n",
    "print('Mean Absolute Error with Support Vector Regression: ',mae_SVR)\n",
    "print('Mean Absolute Error with Gradient Boosting Regressor: ',mae_GBR)\n"
   ]
  },
  {
   "cell_type": "markdown",
   "id": "2c049e52",
   "metadata": {},
   "source": [
    "#### Calculating Mean Squared Error"
   ]
  },
  {
   "cell_type": "code",
   "execution_count": 432,
   "id": "d8f1bd01",
   "metadata": {},
   "outputs": [
    {
     "name": "stdout",
     "output_type": "stream",
     "text": [
      "Mean Squared Error with Random Forest:  0.016417627251488758\n",
      "Mean Squared Error with Decision Tree:  0.031022857929578995\n",
      "Mean Squared Error with Support Vector Regression:  0.0353378080346414\n",
      "Mean Squared Error with Gradient Boosting Regressor:  0.01692970259496455\n"
     ]
    }
   ],
   "source": [
    "mse_RF = mean_squared_error(y_test,preds_RF)\n",
    "mse_DT = mean_squared_error(y_test,preds_DT)\n",
    "mse_SVR = mean_squared_error(y_test,preds_SVR)\n",
    "mse_GBR = mean_squared_error(y_test,preds_GBR)\n",
    "\n",
    "\n",
    "print('Mean Squared Error with Random Forest: ',mse_RF)\n",
    "print('Mean Squared Error with Decision Tree: ',mse_DT)\n",
    "print('Mean Squared Error with Support Vector Regression: ',mse_SVR)\n",
    "print('Mean Squared Error with Gradient Boosting Regressor: ',mse_GBR)"
   ]
  },
  {
   "cell_type": "markdown",
   "id": "d65ad55b",
   "metadata": {},
   "source": [
    "#### Coefficient of determination"
   ]
  },
  {
   "cell_type": "code",
   "execution_count": 433,
   "id": "1841c78d",
   "metadata": {},
   "outputs": [
    {
     "name": "stdout",
     "output_type": "stream",
     "text": [
      "Coefficient of detremination with Random Forest:  0.6207330061331241\n",
      "Coefficient of detremination with Decision Tree:  0.283334559380762\n",
      "Coefficient of detremination with Support Vector Regression:  0.18365400688897737\n",
      "Coefficient of detremination with Gradient Boosting Regressor:  0.6089034479894039\n"
     ]
    }
   ],
   "source": [
    "r2_RF = r2_score(y_test,preds_RF)\n",
    "r2_DT = r2_score(y_test,preds_DT)\n",
    "r2_SVR = r2_score(y_test,preds_SVR)\n",
    "r2_GBR = r2_score(y_test,preds_GBR)\n",
    "\n",
    "\n",
    "print('Coefficient of detremination with Random Forest: ',r2_RF)\n",
    "print('Coefficient of detremination with Decision Tree: ',r2_DT)\n",
    "print('Coefficient of detremination with Support Vector Regression: ',r2_SVR)\n",
    "print('Coefficient of detremination with Gradient Boosting Regressor: ',r2_GBR)"
   ]
  },
  {
   "cell_type": "code",
   "execution_count": 434,
   "id": "b9517a9b",
   "metadata": {},
   "outputs": [
    {
     "data": {
      "text/html": [
       "<div>\n",
       "<style scoped>\n",
       "    .dataframe tbody tr th:only-of-type {\n",
       "        vertical-align: middle;\n",
       "    }\n",
       "\n",
       "    .dataframe tbody tr th {\n",
       "        vertical-align: top;\n",
       "    }\n",
       "\n",
       "    .dataframe thead th {\n",
       "        text-align: right;\n",
       "    }\n",
       "</style>\n",
       "<table border=\"1\" class=\"dataframe\">\n",
       "  <thead>\n",
       "    <tr style=\"text-align: right;\">\n",
       "      <th></th>\n",
       "      <th>Model</th>\n",
       "      <th>MAE</th>\n",
       "      <th>MSE</th>\n",
       "      <th>COE</th>\n",
       "    </tr>\n",
       "  </thead>\n",
       "  <tbody>\n",
       "    <tr>\n",
       "      <th>0</th>\n",
       "      <td>Random Forest Regressor</td>\n",
       "      <td>0.091614</td>\n",
       "      <td>0.016418</td>\n",
       "      <td>0.620733</td>\n",
       "    </tr>\n",
       "    <tr>\n",
       "      <th>3</th>\n",
       "      <td>Gradient Boosting Regressor</td>\n",
       "      <td>0.097042</td>\n",
       "      <td>0.016930</td>\n",
       "      <td>0.608903</td>\n",
       "    </tr>\n",
       "    <tr>\n",
       "      <th>1</th>\n",
       "      <td>Decision Tree Regressor</td>\n",
       "      <td>0.117175</td>\n",
       "      <td>0.031023</td>\n",
       "      <td>0.283335</td>\n",
       "    </tr>\n",
       "    <tr>\n",
       "      <th>2</th>\n",
       "      <td>Support Vector Regression</td>\n",
       "      <td>0.142646</td>\n",
       "      <td>0.035338</td>\n",
       "      <td>0.183654</td>\n",
       "    </tr>\n",
       "  </tbody>\n",
       "</table>\n",
       "</div>"
      ],
      "text/plain": [
       "                         Model       MAE       MSE       COE\n",
       "0      Random Forest Regressor  0.091614  0.016418  0.620733\n",
       "3  Gradient Boosting Regressor  0.097042  0.016930  0.608903\n",
       "1      Decision Tree Regressor  0.117175  0.031023  0.283335\n",
       "2    Support Vector Regression  0.142646  0.035338  0.183654"
      ]
     },
     "execution_count": 434,
     "metadata": {},
     "output_type": "execute_result"
    }
   ],
   "source": [
    "ML_models = pd.DataFrame({\n",
    "    'Model': ['Random Forest Regressor','Decision Tree Regressor','Support Vector Regression',\\\n",
    "              'Gradient Boosting Regressor'],\n",
    "    'MAE': [mae_RF,mae_DT,mae_SVR,mae_GBR],\n",
    "    'MSE': [mse_RF,mse_DT,mse_SVR,mse_GBR],\n",
    "    'COE': [r2_RF,r2_DT,r2_SVR,r2_GBR]})\n",
    "    \n",
    "Best_Model = ML_models.sort_values(by='MAE')\n",
    "Best_Model"
   ]
  },
  {
   "cell_type": "markdown",
   "id": "c386e45b",
   "metadata": {},
   "source": [
    "- Random Forest Regression model surpasses all other models and has the least errors and the highest R-squared value, which makes it the best-performing model."
   ]
  }
 ],
 "metadata": {
  "kernelspec": {
   "display_name": "Python 3 (ipykernel)",
   "language": "python",
   "name": "python3"
  },
  "language_info": {
   "codemirror_mode": {
    "name": "ipython",
    "version": 3
   },
   "file_extension": ".py",
   "mimetype": "text/x-python",
   "name": "python",
   "nbconvert_exporter": "python",
   "pygments_lexer": "ipython3",
   "version": "3.9.12"
  }
 },
 "nbformat": 4,
 "nbformat_minor": 5
}
